{
 "cells": [
  {
   "cell_type": "code",
   "execution_count": 1,
   "metadata": {},
   "outputs": [],
   "source": [
    "import pandas as pd\n",
    "import plotly.express as px\n",
    "import plotly.graph_objects as go\n",
    "import numpy as np\n",
    "from dateutil.relativedelta import relativedelta"
   ]
  },
  {
   "cell_type": "code",
   "execution_count": 2,
   "metadata": {},
   "outputs": [],
   "source": [
    "# Data load\n",
    "tariff_plans_df = pd.read_csv('Tariff_plans_change.csv')\n",
    "charges_df = pd.read_csv('Charges.csv')\n",
    "suspensions_df = pd.read_csv('Suspended.csv')\n",
    "\n",
    "# String data to datetime + cating some numerical features to categorical\n",
    "tariff_plans_df['START_DTTM'] = pd.to_datetime(tariff_plans_df['START_DTTM'])\n",
    "tariff_plans_df['END_DTTM'] = pd.to_datetime(tariff_plans_df['END_DTTM'], errors='coerce')\n",
    "tariff_plans_df['TARIFF_PLAN_ID'] = tariff_plans_df['TARIFF_PLAN_ID'].astype('category')\n",
    "charges_df['BILL_MONTH'] = pd.to_datetime(charges_df['BILL_MONTH'])\n",
    "suspensions_df['START_DT'] = pd.to_datetime(suspensions_df['START_DT'])\n",
    "suspensions_df['END_DT'] = pd.to_datetime(suspensions_df['END_DT'], errors='coerce')"
   ]
  },
  {
   "cell_type": "code",
   "execution_count": 3,
   "metadata": {},
   "outputs": [
    {
     "data": {
      "text/html": [
       "<div>\n",
       "<style scoped>\n",
       "    .dataframe tbody tr th:only-of-type {\n",
       "        vertical-align: middle;\n",
       "    }\n",
       "\n",
       "    .dataframe tbody tr th {\n",
       "        vertical-align: top;\n",
       "    }\n",
       "\n",
       "    .dataframe thead th {\n",
       "        text-align: right;\n",
       "    }\n",
       "</style>\n",
       "<table border=\"1\" class=\"dataframe\">\n",
       "  <thead>\n",
       "    <tr style=\"text-align: right;\">\n",
       "      <th></th>\n",
       "      <th>SUBSCRIBER_ID</th>\n",
       "      <th>TARIFF_PLAN_ID</th>\n",
       "      <th>START_DTTM</th>\n",
       "      <th>END_DTTM</th>\n",
       "    </tr>\n",
       "  </thead>\n",
       "  <tbody>\n",
       "    <tr>\n",
       "      <th>0</th>\n",
       "      <td>1</td>\n",
       "      <td>2</td>\n",
       "      <td>2013-11-22 21:10:08</td>\n",
       "      <td>2017-03-11 14:24:17</td>\n",
       "    </tr>\n",
       "    <tr>\n",
       "      <th>1</th>\n",
       "      <td>1</td>\n",
       "      <td>3</td>\n",
       "      <td>2017-03-11 14:24:18</td>\n",
       "      <td>NaT</td>\n",
       "    </tr>\n",
       "    <tr>\n",
       "      <th>2</th>\n",
       "      <td>2</td>\n",
       "      <td>1</td>\n",
       "      <td>2016-02-05 16:36:34</td>\n",
       "      <td>2017-06-29 12:39:58</td>\n",
       "    </tr>\n",
       "    <tr>\n",
       "      <th>3</th>\n",
       "      <td>2</td>\n",
       "      <td>5</td>\n",
       "      <td>2017-06-29 12:39:59</td>\n",
       "      <td>NaT</td>\n",
       "    </tr>\n",
       "    <tr>\n",
       "      <th>4</th>\n",
       "      <td>3</td>\n",
       "      <td>1</td>\n",
       "      <td>2015-05-06 19:17:46</td>\n",
       "      <td>2017-04-14 12:00:59</td>\n",
       "    </tr>\n",
       "    <tr>\n",
       "      <th>5</th>\n",
       "      <td>3</td>\n",
       "      <td>5</td>\n",
       "      <td>2017-04-14 12:01:00</td>\n",
       "      <td>NaT</td>\n",
       "    </tr>\n",
       "    <tr>\n",
       "      <th>6</th>\n",
       "      <td>4</td>\n",
       "      <td>3</td>\n",
       "      <td>2016-01-27 23:03:51</td>\n",
       "      <td>2017-01-09 19:27:50</td>\n",
       "    </tr>\n",
       "    <tr>\n",
       "      <th>7</th>\n",
       "      <td>4</td>\n",
       "      <td>5</td>\n",
       "      <td>2017-01-09 19:27:51</td>\n",
       "      <td>NaT</td>\n",
       "    </tr>\n",
       "    <tr>\n",
       "      <th>8</th>\n",
       "      <td>5</td>\n",
       "      <td>1</td>\n",
       "      <td>2016-02-06 08:07:15</td>\n",
       "      <td>2017-05-08 12:39:59</td>\n",
       "    </tr>\n",
       "    <tr>\n",
       "      <th>9</th>\n",
       "      <td>5</td>\n",
       "      <td>5</td>\n",
       "      <td>2017-05-08 12:40:00</td>\n",
       "      <td>NaT</td>\n",
       "    </tr>\n",
       "  </tbody>\n",
       "</table>\n",
       "</div>"
      ],
      "text/plain": [
       "   SUBSCRIBER_ID TARIFF_PLAN_ID          START_DTTM            END_DTTM\n",
       "0              1              2 2013-11-22 21:10:08 2017-03-11 14:24:17\n",
       "1              1              3 2017-03-11 14:24:18                 NaT\n",
       "2              2              1 2016-02-05 16:36:34 2017-06-29 12:39:58\n",
       "3              2              5 2017-06-29 12:39:59                 NaT\n",
       "4              3              1 2015-05-06 19:17:46 2017-04-14 12:00:59\n",
       "5              3              5 2017-04-14 12:01:00                 NaT\n",
       "6              4              3 2016-01-27 23:03:51 2017-01-09 19:27:50\n",
       "7              4              5 2017-01-09 19:27:51                 NaT\n",
       "8              5              1 2016-02-06 08:07:15 2017-05-08 12:39:59\n",
       "9              5              5 2017-05-08 12:40:00                 NaT"
      ]
     },
     "execution_count": 3,
     "metadata": {},
     "output_type": "execute_result"
    }
   ],
   "source": [
    "tariff_plans_df.head(10)"
   ]
  },
  {
   "cell_type": "code",
   "execution_count": 4,
   "metadata": {},
   "outputs": [
    {
     "data": {
      "text/plain": [
       "5989"
      ]
     },
     "execution_count": 4,
     "metadata": {},
     "output_type": "execute_result"
    }
   ],
   "source": [
    "tariff_plans_df['SUBSCRIBER_ID'].nunique()"
   ]
  },
  {
   "cell_type": "code",
   "execution_count": 5,
   "metadata": {},
   "outputs": [
    {
     "data": {
      "text/html": [
       "<div>\n",
       "<style scoped>\n",
       "    .dataframe tbody tr th:only-of-type {\n",
       "        vertical-align: middle;\n",
       "    }\n",
       "\n",
       "    .dataframe tbody tr th {\n",
       "        vertical-align: top;\n",
       "    }\n",
       "\n",
       "    .dataframe thead th {\n",
       "        text-align: right;\n",
       "    }\n",
       "</style>\n",
       "<table border=\"1\" class=\"dataframe\">\n",
       "  <thead>\n",
       "    <tr style=\"text-align: right;\">\n",
       "      <th></th>\n",
       "      <th>SUBSCRIBER_ID</th>\n",
       "      <th>BILL_MONTH</th>\n",
       "      <th>CHARGES</th>\n",
       "    </tr>\n",
       "  </thead>\n",
       "  <tbody>\n",
       "    <tr>\n",
       "      <th>0</th>\n",
       "      <td>4741</td>\n",
       "      <td>2017-03-01</td>\n",
       "      <td>4.572</td>\n",
       "    </tr>\n",
       "    <tr>\n",
       "      <th>1</th>\n",
       "      <td>1754</td>\n",
       "      <td>2017-05-01</td>\n",
       "      <td>4.894</td>\n",
       "    </tr>\n",
       "    <tr>\n",
       "      <th>2</th>\n",
       "      <td>381</td>\n",
       "      <td>2017-01-01</td>\n",
       "      <td>6.670</td>\n",
       "    </tr>\n",
       "    <tr>\n",
       "      <th>3</th>\n",
       "      <td>5832</td>\n",
       "      <td>2016-12-01</td>\n",
       "      <td>4.299</td>\n",
       "    </tr>\n",
       "    <tr>\n",
       "      <th>4</th>\n",
       "      <td>5277</td>\n",
       "      <td>2017-03-01</td>\n",
       "      <td>1.610</td>\n",
       "    </tr>\n",
       "    <tr>\n",
       "      <th>5</th>\n",
       "      <td>4512</td>\n",
       "      <td>2017-02-01</td>\n",
       "      <td>3.220</td>\n",
       "    </tr>\n",
       "    <tr>\n",
       "      <th>6</th>\n",
       "      <td>1688</td>\n",
       "      <td>2017-05-01</td>\n",
       "      <td>7.391</td>\n",
       "    </tr>\n",
       "    <tr>\n",
       "      <th>7</th>\n",
       "      <td>3204</td>\n",
       "      <td>2017-10-01</td>\n",
       "      <td>2.456</td>\n",
       "    </tr>\n",
       "    <tr>\n",
       "      <th>8</th>\n",
       "      <td>1277</td>\n",
       "      <td>2016-08-01</td>\n",
       "      <td>11.242</td>\n",
       "    </tr>\n",
       "    <tr>\n",
       "      <th>9</th>\n",
       "      <td>5424</td>\n",
       "      <td>2017-04-01</td>\n",
       "      <td>26.986</td>\n",
       "    </tr>\n",
       "  </tbody>\n",
       "</table>\n",
       "</div>"
      ],
      "text/plain": [
       "   SUBSCRIBER_ID BILL_MONTH  CHARGES\n",
       "0           4741 2017-03-01    4.572\n",
       "1           1754 2017-05-01    4.894\n",
       "2            381 2017-01-01    6.670\n",
       "3           5832 2016-12-01    4.299\n",
       "4           5277 2017-03-01    1.610\n",
       "5           4512 2017-02-01    3.220\n",
       "6           1688 2017-05-01    7.391\n",
       "7           3204 2017-10-01    2.456\n",
       "8           1277 2016-08-01   11.242\n",
       "9           5424 2017-04-01   26.986"
      ]
     },
     "execution_count": 5,
     "metadata": {},
     "output_type": "execute_result"
    }
   ],
   "source": [
    "charges_df.head(10)"
   ]
  },
  {
   "cell_type": "code",
   "execution_count": 6,
   "metadata": {},
   "outputs": [
    {
     "data": {
      "text/html": [
       "<div>\n",
       "<style scoped>\n",
       "    .dataframe tbody tr th:only-of-type {\n",
       "        vertical-align: middle;\n",
       "    }\n",
       "\n",
       "    .dataframe tbody tr th {\n",
       "        vertical-align: top;\n",
       "    }\n",
       "\n",
       "    .dataframe thead th {\n",
       "        text-align: right;\n",
       "    }\n",
       "</style>\n",
       "<table border=\"1\" class=\"dataframe\">\n",
       "  <thead>\n",
       "    <tr style=\"text-align: right;\">\n",
       "      <th></th>\n",
       "      <th>SUBSCRIBER_ID</th>\n",
       "      <th>START_DT</th>\n",
       "      <th>END_DT</th>\n",
       "      <th>STATUS</th>\n",
       "    </tr>\n",
       "  </thead>\n",
       "  <tbody>\n",
       "    <tr>\n",
       "      <th>0</th>\n",
       "      <td>5195</td>\n",
       "      <td>2017-12-27</td>\n",
       "      <td>2017-12-27</td>\n",
       "      <td>Suspended</td>\n",
       "    </tr>\n",
       "    <tr>\n",
       "      <th>1</th>\n",
       "      <td>5198</td>\n",
       "      <td>2017-04-18</td>\n",
       "      <td>2017-04-18</td>\n",
       "      <td>Suspended</td>\n",
       "    </tr>\n",
       "    <tr>\n",
       "      <th>2</th>\n",
       "      <td>381</td>\n",
       "      <td>2017-04-18</td>\n",
       "      <td>2017-04-20</td>\n",
       "      <td>Suspended</td>\n",
       "    </tr>\n",
       "    <tr>\n",
       "      <th>3</th>\n",
       "      <td>3500</td>\n",
       "      <td>2017-12-21</td>\n",
       "      <td>NaT</td>\n",
       "      <td>Suspended</td>\n",
       "    </tr>\n",
       "    <tr>\n",
       "      <th>4</th>\n",
       "      <td>3302</td>\n",
       "      <td>2016-08-23</td>\n",
       "      <td>2016-09-07</td>\n",
       "      <td>Suspended</td>\n",
       "    </tr>\n",
       "    <tr>\n",
       "      <th>5</th>\n",
       "      <td>4512</td>\n",
       "      <td>2017-04-14</td>\n",
       "      <td>2017-04-28</td>\n",
       "      <td>Suspended</td>\n",
       "    </tr>\n",
       "    <tr>\n",
       "      <th>6</th>\n",
       "      <td>1738</td>\n",
       "      <td>2016-08-11</td>\n",
       "      <td>2017-01-10</td>\n",
       "      <td>Suspended</td>\n",
       "    </tr>\n",
       "    <tr>\n",
       "      <th>7</th>\n",
       "      <td>2294</td>\n",
       "      <td>2017-01-27</td>\n",
       "      <td>2017-01-27</td>\n",
       "      <td>Suspended</td>\n",
       "    </tr>\n",
       "    <tr>\n",
       "      <th>8</th>\n",
       "      <td>1277</td>\n",
       "      <td>2017-01-27</td>\n",
       "      <td>2017-03-21</td>\n",
       "      <td>Suspended</td>\n",
       "    </tr>\n",
       "    <tr>\n",
       "      <th>9</th>\n",
       "      <td>5424</td>\n",
       "      <td>2016-11-18</td>\n",
       "      <td>2016-11-29</td>\n",
       "      <td>Suspended</td>\n",
       "    </tr>\n",
       "  </tbody>\n",
       "</table>\n",
       "</div>"
      ],
      "text/plain": [
       "   SUBSCRIBER_ID   START_DT     END_DT     STATUS\n",
       "0           5195 2017-12-27 2017-12-27  Suspended\n",
       "1           5198 2017-04-18 2017-04-18  Suspended\n",
       "2            381 2017-04-18 2017-04-20  Suspended\n",
       "3           3500 2017-12-21        NaT  Suspended\n",
       "4           3302 2016-08-23 2016-09-07  Suspended\n",
       "5           4512 2017-04-14 2017-04-28  Suspended\n",
       "6           1738 2016-08-11 2017-01-10  Suspended\n",
       "7           2294 2017-01-27 2017-01-27  Suspended\n",
       "8           1277 2017-01-27 2017-03-21  Suspended\n",
       "9           5424 2016-11-18 2016-11-29  Suspended"
      ]
     },
     "execution_count": 6,
     "metadata": {},
     "output_type": "execute_result"
    }
   ],
   "source": [
    "suspensions_df.head(10)"
   ]
  },
  {
   "cell_type": "code",
   "execution_count": 7,
   "metadata": {},
   "outputs": [
    {
     "data": {
      "text/plain": [
       "1310"
      ]
     },
     "execution_count": 7,
     "metadata": {},
     "output_type": "execute_result"
    }
   ],
   "source": [
    "suspensions_df['SUBSCRIBER_ID'].nunique()"
   ]
  },
  {
   "cell_type": "markdown",
   "metadata": {},
   "source": [
    "## Tariff migration"
   ]
  },
  {
   "cell_type": "code",
   "execution_count": 8,
   "metadata": {},
   "outputs": [
    {
     "name": "stderr",
     "output_type": "stream",
     "text": [
      "C:\\Users\\-PC-\\AppData\\Local\\Temp\\ipykernel_4368\\1428131999.py:6: FutureWarning: The default of observed=False is deprecated and will be changed to True in a future version of pandas. Pass observed=False to retain current behavior or observed=True to adopt the future default and silence this warning.\n",
      "  migration_flows = migrations.groupby(['TARIFF_PLAN_ID', 'MIGRATION_TARIFF']).size().reset_index(name='COUNT')\n"
     ]
    },
    {
     "data": {
      "text/html": [
       "<div>\n",
       "<style scoped>\n",
       "    .dataframe tbody tr th:only-of-type {\n",
       "        vertical-align: middle;\n",
       "    }\n",
       "\n",
       "    .dataframe tbody tr th {\n",
       "        vertical-align: top;\n",
       "    }\n",
       "\n",
       "    .dataframe thead th {\n",
       "        text-align: right;\n",
       "    }\n",
       "</style>\n",
       "<table border=\"1\" class=\"dataframe\">\n",
       "  <thead>\n",
       "    <tr style=\"text-align: right;\">\n",
       "      <th></th>\n",
       "      <th>TARIFF_PLAN_ID</th>\n",
       "      <th>MIGRATION_TARIFF</th>\n",
       "      <th>COUNT</th>\n",
       "    </tr>\n",
       "  </thead>\n",
       "  <tbody>\n",
       "    <tr>\n",
       "      <th>1</th>\n",
       "      <td>1</td>\n",
       "      <td>2</td>\n",
       "      <td>5</td>\n",
       "    </tr>\n",
       "    <tr>\n",
       "      <th>2</th>\n",
       "      <td>1</td>\n",
       "      <td>3</td>\n",
       "      <td>55</td>\n",
       "    </tr>\n",
       "    <tr>\n",
       "      <th>3</th>\n",
       "      <td>1</td>\n",
       "      <td>4</td>\n",
       "      <td>378</td>\n",
       "    </tr>\n",
       "    <tr>\n",
       "      <th>4</th>\n",
       "      <td>1</td>\n",
       "      <td>5</td>\n",
       "      <td>1613</td>\n",
       "    </tr>\n",
       "    <tr>\n",
       "      <th>5</th>\n",
       "      <td>2</td>\n",
       "      <td>1</td>\n",
       "      <td>13</td>\n",
       "    </tr>\n",
       "    <tr>\n",
       "      <th>7</th>\n",
       "      <td>2</td>\n",
       "      <td>3</td>\n",
       "      <td>20</td>\n",
       "    </tr>\n",
       "    <tr>\n",
       "      <th>8</th>\n",
       "      <td>2</td>\n",
       "      <td>4</td>\n",
       "      <td>158</td>\n",
       "    </tr>\n",
       "    <tr>\n",
       "      <th>9</th>\n",
       "      <td>2</td>\n",
       "      <td>5</td>\n",
       "      <td>417</td>\n",
       "    </tr>\n",
       "    <tr>\n",
       "      <th>10</th>\n",
       "      <td>3</td>\n",
       "      <td>1</td>\n",
       "      <td>28</td>\n",
       "    </tr>\n",
       "    <tr>\n",
       "      <th>11</th>\n",
       "      <td>3</td>\n",
       "      <td>2</td>\n",
       "      <td>12</td>\n",
       "    </tr>\n",
       "    <tr>\n",
       "      <th>13</th>\n",
       "      <td>3</td>\n",
       "      <td>4</td>\n",
       "      <td>367</td>\n",
       "    </tr>\n",
       "    <tr>\n",
       "      <th>14</th>\n",
       "      <td>3</td>\n",
       "      <td>5</td>\n",
       "      <td>2372</td>\n",
       "    </tr>\n",
       "    <tr>\n",
       "      <th>15</th>\n",
       "      <td>4</td>\n",
       "      <td>1</td>\n",
       "      <td>37</td>\n",
       "    </tr>\n",
       "    <tr>\n",
       "      <th>16</th>\n",
       "      <td>4</td>\n",
       "      <td>2</td>\n",
       "      <td>20</td>\n",
       "    </tr>\n",
       "    <tr>\n",
       "      <th>17</th>\n",
       "      <td>4</td>\n",
       "      <td>3</td>\n",
       "      <td>56</td>\n",
       "    </tr>\n",
       "    <tr>\n",
       "      <th>19</th>\n",
       "      <td>4</td>\n",
       "      <td>5</td>\n",
       "      <td>528</td>\n",
       "    </tr>\n",
       "    <tr>\n",
       "      <th>20</th>\n",
       "      <td>5</td>\n",
       "      <td>1</td>\n",
       "      <td>81</td>\n",
       "    </tr>\n",
       "    <tr>\n",
       "      <th>21</th>\n",
       "      <td>5</td>\n",
       "      <td>2</td>\n",
       "      <td>4</td>\n",
       "    </tr>\n",
       "    <tr>\n",
       "      <th>22</th>\n",
       "      <td>5</td>\n",
       "      <td>3</td>\n",
       "      <td>75</td>\n",
       "    </tr>\n",
       "    <tr>\n",
       "      <th>23</th>\n",
       "      <td>5</td>\n",
       "      <td>4</td>\n",
       "      <td>49</td>\n",
       "    </tr>\n",
       "  </tbody>\n",
       "</table>\n",
       "</div>"
      ],
      "text/plain": [
       "   TARIFF_PLAN_ID MIGRATION_TARIFF  COUNT\n",
       "1               1                2      5\n",
       "2               1                3     55\n",
       "3               1                4    378\n",
       "4               1                5   1613\n",
       "5               2                1     13\n",
       "7               2                3     20\n",
       "8               2                4    158\n",
       "9               2                5    417\n",
       "10              3                1     28\n",
       "11              3                2     12\n",
       "13              3                4    367\n",
       "14              3                5   2372\n",
       "15              4                1     37\n",
       "16              4                2     20\n",
       "17              4                3     56\n",
       "19              4                5    528\n",
       "20              5                1     81\n",
       "21              5                2      4\n",
       "22              5                3     75\n",
       "23              5                4     49"
      ]
     },
     "execution_count": 8,
     "metadata": {},
     "output_type": "execute_result"
    }
   ],
   "source": [
    "# Creating dataset for all of migrations\n",
    "\n",
    "tariff_migrations = tariff_plans_df.copy()\n",
    "tariff_migrations['MIGRATION_TARIFF'] = tariff_migrations.groupby('SUBSCRIBER_ID')['TARIFF_PLAN_ID'].shift(-1)\n",
    "migrations = tariff_migrations.dropna(subset=['MIGRATION_TARIFF']).reset_index()\n",
    "migration_flows = migrations.groupby(['TARIFF_PLAN_ID', 'MIGRATION_TARIFF']).size().reset_index(name='COUNT')\n",
    "migration_flows['MIGRATION_TARIFF'] = migration_flows['MIGRATION_TARIFF'].astype('category')\n",
    "\n",
    "# Drop rows with same previous and migration tariffs\n",
    "drop_mask = (migration_flows['TARIFF_PLAN_ID'] == migration_flows['MIGRATION_TARIFF'])\n",
    "migration_flows.drop(migration_flows[drop_mask].index, inplace=True)\n",
    "migration_flows"
   ]
  },
  {
   "cell_type": "code",
   "execution_count": 9,
   "metadata": {},
   "outputs": [
    {
     "data": {
      "application/vnd.plotly.v1+json": {
       "config": {
        "plotlyServerURL": "https://plot.ly"
       },
       "data": [
        {
         "arrangement": "snap",
         "link": {
          "source": [
           0,
           0,
           0,
           0,
           1,
           1,
           1,
           1,
           2,
           2,
           2,
           2,
           3,
           3,
           3,
           3,
           4,
           4,
           4,
           4
          ],
          "target": [
           6,
           7,
           8,
           9,
           5,
           7,
           8,
           9,
           5,
           6,
           8,
           9,
           5,
           6,
           7,
           9,
           5,
           6,
           7,
           8
          ],
          "value": [
           5,
           55,
           378,
           1613,
           13,
           20,
           158,
           417,
           28,
           12,
           367,
           2372,
           37,
           20,
           56,
           528,
           81,
           4,
           75,
           49
          ]
         },
         "node": {
          "label": [
           "Tariff 1",
           "Tariff 2",
           "Tariff 3",
           "Tariff 4",
           "Tariff 5",
           "Tariff 1",
           "Tariff 2",
           "Tariff 3",
           "Tariff 4",
           "Tariff 5"
          ],
          "pad": 20,
          "thickness": 30
         },
         "type": "sankey",
         "valuesuffix": " Migrations"
        }
       ],
       "layout": {
        "font": {
         "size": 20
        },
        "height": 1080,
        "template": {
         "data": {
          "bar": [
           {
            "error_x": {
             "color": "#2a3f5f"
            },
            "error_y": {
             "color": "#2a3f5f"
            },
            "marker": {
             "line": {
              "color": "#E5ECF6",
              "width": 0.5
             },
             "pattern": {
              "fillmode": "overlay",
              "size": 10,
              "solidity": 0.2
             }
            },
            "type": "bar"
           }
          ],
          "barpolar": [
           {
            "marker": {
             "line": {
              "color": "#E5ECF6",
              "width": 0.5
             },
             "pattern": {
              "fillmode": "overlay",
              "size": 10,
              "solidity": 0.2
             }
            },
            "type": "barpolar"
           }
          ],
          "carpet": [
           {
            "aaxis": {
             "endlinecolor": "#2a3f5f",
             "gridcolor": "white",
             "linecolor": "white",
             "minorgridcolor": "white",
             "startlinecolor": "#2a3f5f"
            },
            "baxis": {
             "endlinecolor": "#2a3f5f",
             "gridcolor": "white",
             "linecolor": "white",
             "minorgridcolor": "white",
             "startlinecolor": "#2a3f5f"
            },
            "type": "carpet"
           }
          ],
          "choropleth": [
           {
            "colorbar": {
             "outlinewidth": 0,
             "ticks": ""
            },
            "type": "choropleth"
           }
          ],
          "contour": [
           {
            "colorbar": {
             "outlinewidth": 0,
             "ticks": ""
            },
            "colorscale": [
             [
              0,
              "#0d0887"
             ],
             [
              0.1111111111111111,
              "#46039f"
             ],
             [
              0.2222222222222222,
              "#7201a8"
             ],
             [
              0.3333333333333333,
              "#9c179e"
             ],
             [
              0.4444444444444444,
              "#bd3786"
             ],
             [
              0.5555555555555556,
              "#d8576b"
             ],
             [
              0.6666666666666666,
              "#ed7953"
             ],
             [
              0.7777777777777778,
              "#fb9f3a"
             ],
             [
              0.8888888888888888,
              "#fdca26"
             ],
             [
              1,
              "#f0f921"
             ]
            ],
            "type": "contour"
           }
          ],
          "contourcarpet": [
           {
            "colorbar": {
             "outlinewidth": 0,
             "ticks": ""
            },
            "type": "contourcarpet"
           }
          ],
          "heatmap": [
           {
            "colorbar": {
             "outlinewidth": 0,
             "ticks": ""
            },
            "colorscale": [
             [
              0,
              "#0d0887"
             ],
             [
              0.1111111111111111,
              "#46039f"
             ],
             [
              0.2222222222222222,
              "#7201a8"
             ],
             [
              0.3333333333333333,
              "#9c179e"
             ],
             [
              0.4444444444444444,
              "#bd3786"
             ],
             [
              0.5555555555555556,
              "#d8576b"
             ],
             [
              0.6666666666666666,
              "#ed7953"
             ],
             [
              0.7777777777777778,
              "#fb9f3a"
             ],
             [
              0.8888888888888888,
              "#fdca26"
             ],
             [
              1,
              "#f0f921"
             ]
            ],
            "type": "heatmap"
           }
          ],
          "heatmapgl": [
           {
            "colorbar": {
             "outlinewidth": 0,
             "ticks": ""
            },
            "colorscale": [
             [
              0,
              "#0d0887"
             ],
             [
              0.1111111111111111,
              "#46039f"
             ],
             [
              0.2222222222222222,
              "#7201a8"
             ],
             [
              0.3333333333333333,
              "#9c179e"
             ],
             [
              0.4444444444444444,
              "#bd3786"
             ],
             [
              0.5555555555555556,
              "#d8576b"
             ],
             [
              0.6666666666666666,
              "#ed7953"
             ],
             [
              0.7777777777777778,
              "#fb9f3a"
             ],
             [
              0.8888888888888888,
              "#fdca26"
             ],
             [
              1,
              "#f0f921"
             ]
            ],
            "type": "heatmapgl"
           }
          ],
          "histogram": [
           {
            "marker": {
             "pattern": {
              "fillmode": "overlay",
              "size": 10,
              "solidity": 0.2
             }
            },
            "type": "histogram"
           }
          ],
          "histogram2d": [
           {
            "colorbar": {
             "outlinewidth": 0,
             "ticks": ""
            },
            "colorscale": [
             [
              0,
              "#0d0887"
             ],
             [
              0.1111111111111111,
              "#46039f"
             ],
             [
              0.2222222222222222,
              "#7201a8"
             ],
             [
              0.3333333333333333,
              "#9c179e"
             ],
             [
              0.4444444444444444,
              "#bd3786"
             ],
             [
              0.5555555555555556,
              "#d8576b"
             ],
             [
              0.6666666666666666,
              "#ed7953"
             ],
             [
              0.7777777777777778,
              "#fb9f3a"
             ],
             [
              0.8888888888888888,
              "#fdca26"
             ],
             [
              1,
              "#f0f921"
             ]
            ],
            "type": "histogram2d"
           }
          ],
          "histogram2dcontour": [
           {
            "colorbar": {
             "outlinewidth": 0,
             "ticks": ""
            },
            "colorscale": [
             [
              0,
              "#0d0887"
             ],
             [
              0.1111111111111111,
              "#46039f"
             ],
             [
              0.2222222222222222,
              "#7201a8"
             ],
             [
              0.3333333333333333,
              "#9c179e"
             ],
             [
              0.4444444444444444,
              "#bd3786"
             ],
             [
              0.5555555555555556,
              "#d8576b"
             ],
             [
              0.6666666666666666,
              "#ed7953"
             ],
             [
              0.7777777777777778,
              "#fb9f3a"
             ],
             [
              0.8888888888888888,
              "#fdca26"
             ],
             [
              1,
              "#f0f921"
             ]
            ],
            "type": "histogram2dcontour"
           }
          ],
          "mesh3d": [
           {
            "colorbar": {
             "outlinewidth": 0,
             "ticks": ""
            },
            "type": "mesh3d"
           }
          ],
          "parcoords": [
           {
            "line": {
             "colorbar": {
              "outlinewidth": 0,
              "ticks": ""
             }
            },
            "type": "parcoords"
           }
          ],
          "pie": [
           {
            "automargin": true,
            "type": "pie"
           }
          ],
          "scatter": [
           {
            "fillpattern": {
             "fillmode": "overlay",
             "size": 10,
             "solidity": 0.2
            },
            "type": "scatter"
           }
          ],
          "scatter3d": [
           {
            "line": {
             "colorbar": {
              "outlinewidth": 0,
              "ticks": ""
             }
            },
            "marker": {
             "colorbar": {
              "outlinewidth": 0,
              "ticks": ""
             }
            },
            "type": "scatter3d"
           }
          ],
          "scattercarpet": [
           {
            "marker": {
             "colorbar": {
              "outlinewidth": 0,
              "ticks": ""
             }
            },
            "type": "scattercarpet"
           }
          ],
          "scattergeo": [
           {
            "marker": {
             "colorbar": {
              "outlinewidth": 0,
              "ticks": ""
             }
            },
            "type": "scattergeo"
           }
          ],
          "scattergl": [
           {
            "marker": {
             "colorbar": {
              "outlinewidth": 0,
              "ticks": ""
             }
            },
            "type": "scattergl"
           }
          ],
          "scattermapbox": [
           {
            "marker": {
             "colorbar": {
              "outlinewidth": 0,
              "ticks": ""
             }
            },
            "type": "scattermapbox"
           }
          ],
          "scatterpolar": [
           {
            "marker": {
             "colorbar": {
              "outlinewidth": 0,
              "ticks": ""
             }
            },
            "type": "scatterpolar"
           }
          ],
          "scatterpolargl": [
           {
            "marker": {
             "colorbar": {
              "outlinewidth": 0,
              "ticks": ""
             }
            },
            "type": "scatterpolargl"
           }
          ],
          "scatterternary": [
           {
            "marker": {
             "colorbar": {
              "outlinewidth": 0,
              "ticks": ""
             }
            },
            "type": "scatterternary"
           }
          ],
          "surface": [
           {
            "colorbar": {
             "outlinewidth": 0,
             "ticks": ""
            },
            "colorscale": [
             [
              0,
              "#0d0887"
             ],
             [
              0.1111111111111111,
              "#46039f"
             ],
             [
              0.2222222222222222,
              "#7201a8"
             ],
             [
              0.3333333333333333,
              "#9c179e"
             ],
             [
              0.4444444444444444,
              "#bd3786"
             ],
             [
              0.5555555555555556,
              "#d8576b"
             ],
             [
              0.6666666666666666,
              "#ed7953"
             ],
             [
              0.7777777777777778,
              "#fb9f3a"
             ],
             [
              0.8888888888888888,
              "#fdca26"
             ],
             [
              1,
              "#f0f921"
             ]
            ],
            "type": "surface"
           }
          ],
          "table": [
           {
            "cells": {
             "fill": {
              "color": "#EBF0F8"
             },
             "line": {
              "color": "white"
             }
            },
            "header": {
             "fill": {
              "color": "#C8D4E3"
             },
             "line": {
              "color": "white"
             }
            },
            "type": "table"
           }
          ]
         },
         "layout": {
          "annotationdefaults": {
           "arrowcolor": "#2a3f5f",
           "arrowhead": 0,
           "arrowwidth": 1
          },
          "autotypenumbers": "strict",
          "coloraxis": {
           "colorbar": {
            "outlinewidth": 0,
            "ticks": ""
           }
          },
          "colorscale": {
           "diverging": [
            [
             0,
             "#8e0152"
            ],
            [
             0.1,
             "#c51b7d"
            ],
            [
             0.2,
             "#de77ae"
            ],
            [
             0.3,
             "#f1b6da"
            ],
            [
             0.4,
             "#fde0ef"
            ],
            [
             0.5,
             "#f7f7f7"
            ],
            [
             0.6,
             "#e6f5d0"
            ],
            [
             0.7,
             "#b8e186"
            ],
            [
             0.8,
             "#7fbc41"
            ],
            [
             0.9,
             "#4d9221"
            ],
            [
             1,
             "#276419"
            ]
           ],
           "sequential": [
            [
             0,
             "#0d0887"
            ],
            [
             0.1111111111111111,
             "#46039f"
            ],
            [
             0.2222222222222222,
             "#7201a8"
            ],
            [
             0.3333333333333333,
             "#9c179e"
            ],
            [
             0.4444444444444444,
             "#bd3786"
            ],
            [
             0.5555555555555556,
             "#d8576b"
            ],
            [
             0.6666666666666666,
             "#ed7953"
            ],
            [
             0.7777777777777778,
             "#fb9f3a"
            ],
            [
             0.8888888888888888,
             "#fdca26"
            ],
            [
             1,
             "#f0f921"
            ]
           ],
           "sequentialminus": [
            [
             0,
             "#0d0887"
            ],
            [
             0.1111111111111111,
             "#46039f"
            ],
            [
             0.2222222222222222,
             "#7201a8"
            ],
            [
             0.3333333333333333,
             "#9c179e"
            ],
            [
             0.4444444444444444,
             "#bd3786"
            ],
            [
             0.5555555555555556,
             "#d8576b"
            ],
            [
             0.6666666666666666,
             "#ed7953"
            ],
            [
             0.7777777777777778,
             "#fb9f3a"
            ],
            [
             0.8888888888888888,
             "#fdca26"
            ],
            [
             1,
             "#f0f921"
            ]
           ]
          },
          "colorway": [
           "#636efa",
           "#EF553B",
           "#00cc96",
           "#ab63fa",
           "#FFA15A",
           "#19d3f3",
           "#FF6692",
           "#B6E880",
           "#FF97FF",
           "#FECB52"
          ],
          "font": {
           "color": "#2a3f5f"
          },
          "geo": {
           "bgcolor": "white",
           "lakecolor": "white",
           "landcolor": "#E5ECF6",
           "showlakes": true,
           "showland": true,
           "subunitcolor": "white"
          },
          "hoverlabel": {
           "align": "left"
          },
          "hovermode": "closest",
          "mapbox": {
           "style": "light"
          },
          "paper_bgcolor": "white",
          "plot_bgcolor": "#E5ECF6",
          "polar": {
           "angularaxis": {
            "gridcolor": "white",
            "linecolor": "white",
            "ticks": ""
           },
           "bgcolor": "#E5ECF6",
           "radialaxis": {
            "gridcolor": "white",
            "linecolor": "white",
            "ticks": ""
           }
          },
          "scene": {
           "xaxis": {
            "backgroundcolor": "#E5ECF6",
            "gridcolor": "white",
            "gridwidth": 2,
            "linecolor": "white",
            "showbackground": true,
            "ticks": "",
            "zerolinecolor": "white"
           },
           "yaxis": {
            "backgroundcolor": "#E5ECF6",
            "gridcolor": "white",
            "gridwidth": 2,
            "linecolor": "white",
            "showbackground": true,
            "ticks": "",
            "zerolinecolor": "white"
           },
           "zaxis": {
            "backgroundcolor": "#E5ECF6",
            "gridcolor": "white",
            "gridwidth": 2,
            "linecolor": "white",
            "showbackground": true,
            "ticks": "",
            "zerolinecolor": "white"
           }
          },
          "shapedefaults": {
           "line": {
            "color": "#2a3f5f"
           }
          },
          "ternary": {
           "aaxis": {
            "gridcolor": "white",
            "linecolor": "white",
            "ticks": ""
           },
           "baxis": {
            "gridcolor": "white",
            "linecolor": "white",
            "ticks": ""
           },
           "bgcolor": "#E5ECF6",
           "caxis": {
            "gridcolor": "white",
            "linecolor": "white",
            "ticks": ""
           }
          },
          "title": {
           "x": 0.05
          },
          "xaxis": {
           "automargin": true,
           "gridcolor": "white",
           "linecolor": "white",
           "ticks": "",
           "title": {
            "standoff": 15
           },
           "zerolinecolor": "white",
           "zerolinewidth": 2
          },
          "yaxis": {
           "automargin": true,
           "gridcolor": "white",
           "linecolor": "white",
           "ticks": "",
           "title": {
            "standoff": 15
           },
           "zerolinecolor": "white",
           "zerolinewidth": 2
          }
         }
        },
        "title": {
         "text": "Tariff-to-Tariff migration flows diagram. Left side is emigration tariff. Right side is immigration tariff"
        }
       }
      }
     },
     "metadata": {},
     "output_type": "display_data"
    }
   ],
   "source": [
    "# Creating Sankey diagram for migration flows\n",
    "\n",
    "labels = (pd.concat([migration_flows['TARIFF_PLAN_ID'], migration_flows['MIGRATION_TARIFF']])\n",
    "          .unique())\n",
    "unique_labels_amount = len(labels)\n",
    "labels = list(map(lambda l: f'Tariff {l}', labels))\n",
    "sankey_labels = labels * 2\n",
    "\n",
    "source = migration_flows['TARIFF_PLAN_ID'].apply(lambda x: sankey_labels.index(f'Tariff {x}')).to_list()\n",
    "target = migration_flows['MIGRATION_TARIFF'].apply(lambda x: sankey_labels.index(f'Tariff {x}', unique_labels_amount)).to_list()\n",
    "value = migration_flows['COUNT']\n",
    "\n",
    "fig = go.Figure()\n",
    "fig.add_trace(\n",
    "    go.Sankey(\n",
    "        valuesuffix=' Migrations',\n",
    "        arrangement='snap',\n",
    "        node=dict(\n",
    "            label=sankey_labels,\n",
    "            pad=20,\n",
    "            thickness=30,  \n",
    "            \n",
    "        ),\n",
    "        link=dict(\n",
    "            source=source,\n",
    "            target=target,\n",
    "            value=value\n",
    "        )\n",
    "    )\n",
    ")\n",
    "fig.update_layout(title='Tariff-to-Tariff migration flows diagram. Left side is emigration tariff. Right side is immigration tariff',\n",
    "                  height=1080, font=dict(size=20))\n",
    "fig.show()"
   ]
  },
  {
   "cell_type": "markdown",
   "metadata": {},
   "source": [
    "Most popular emigration tariff: Tariff 3 (~2.78k migrations)\n",
    "\n",
    "Least popular emigration tariff: Tariff 5 (209 migrations)\n",
    "\n",
    "Most popular imigration tariff: Tariff 5 (~4.93k migrations)\n",
    "\n",
    "Least popular imigration tariff: Tariff 2 (41 migrations)"
   ]
  },
  {
   "cell_type": "markdown",
   "metadata": {},
   "source": [
    "## Average month charge change"
   ]
  },
  {
   "cell_type": "code",
   "execution_count": 10,
   "metadata": {},
   "outputs": [
    {
     "data": {
      "text/html": [
       "<div>\n",
       "<style scoped>\n",
       "    .dataframe tbody tr th:only-of-type {\n",
       "        vertical-align: middle;\n",
       "    }\n",
       "\n",
       "    .dataframe tbody tr th {\n",
       "        vertical-align: top;\n",
       "    }\n",
       "\n",
       "    .dataframe thead th {\n",
       "        text-align: right;\n",
       "    }\n",
       "</style>\n",
       "<table border=\"1\" class=\"dataframe\">\n",
       "  <thead>\n",
       "    <tr style=\"text-align: right;\">\n",
       "      <th></th>\n",
       "      <th>SUBSCRIBER_ID</th>\n",
       "      <th>TARIFF_PLAN_ID</th>\n",
       "      <th>START_DTTM</th>\n",
       "      <th>END_DTTM</th>\n",
       "    </tr>\n",
       "  </thead>\n",
       "  <tbody>\n",
       "    <tr>\n",
       "      <th>0</th>\n",
       "      <td>1</td>\n",
       "      <td>2</td>\n",
       "      <td>2013-11-22 21:10:08</td>\n",
       "      <td>2017-03-11 14:24:17</td>\n",
       "    </tr>\n",
       "    <tr>\n",
       "      <th>1</th>\n",
       "      <td>1</td>\n",
       "      <td>3</td>\n",
       "      <td>2017-03-11 14:24:18</td>\n",
       "      <td>NaT</td>\n",
       "    </tr>\n",
       "  </tbody>\n",
       "</table>\n",
       "</div>"
      ],
      "text/plain": [
       "   SUBSCRIBER_ID TARIFF_PLAN_ID          START_DTTM            END_DTTM\n",
       "0              1              2 2013-11-22 21:10:08 2017-03-11 14:24:17\n",
       "1              1              3 2017-03-11 14:24:18                 NaT"
      ]
     },
     "execution_count": 10,
     "metadata": {},
     "output_type": "execute_result"
    }
   ],
   "source": [
    "tariff_plans_df[tariff_plans_df['SUBSCRIBER_ID'] == 1]"
   ]
  },
  {
   "cell_type": "code",
   "execution_count": 11,
   "metadata": {},
   "outputs": [
    {
     "data": {
      "text/plain": [
       "2     5718\n",
       "3      233\n",
       "4       20\n",
       "6       12\n",
       "5        3\n",
       "8        1\n",
       "16       1\n",
       "18       1\n",
       "Name: count, dtype: int64"
      ]
     },
     "execution_count": 11,
     "metadata": {},
     "output_type": "execute_result"
    }
   ],
   "source": [
    "tariff_plans_df.groupby('SUBSCRIBER_ID').size().value_counts()"
   ]
  },
  {
   "cell_type": "code",
   "execution_count": 12,
   "metadata": {},
   "outputs": [
    {
     "data": {
      "text/html": [
       "<div>\n",
       "<style scoped>\n",
       "    .dataframe tbody tr th:only-of-type {\n",
       "        vertical-align: middle;\n",
       "    }\n",
       "\n",
       "    .dataframe tbody tr th {\n",
       "        vertical-align: top;\n",
       "    }\n",
       "\n",
       "    .dataframe thead th {\n",
       "        text-align: right;\n",
       "    }\n",
       "</style>\n",
       "<table border=\"1\" class=\"dataframe\">\n",
       "  <thead>\n",
       "    <tr style=\"text-align: right;\">\n",
       "      <th></th>\n",
       "      <th>SUBSCRIBER_ID</th>\n",
       "      <th>BILL_MONTH</th>\n",
       "      <th>CHARGES</th>\n",
       "    </tr>\n",
       "  </thead>\n",
       "  <tbody>\n",
       "    <tr>\n",
       "      <th>55587</th>\n",
       "      <td>1</td>\n",
       "      <td>2016-06-01</td>\n",
       "      <td>21.137</td>\n",
       "    </tr>\n",
       "    <tr>\n",
       "      <th>56269</th>\n",
       "      <td>1</td>\n",
       "      <td>2016-07-01</td>\n",
       "      <td>32.545</td>\n",
       "    </tr>\n",
       "    <tr>\n",
       "      <th>56145</th>\n",
       "      <td>1</td>\n",
       "      <td>2016-08-01</td>\n",
       "      <td>30.042</td>\n",
       "    </tr>\n",
       "    <tr>\n",
       "      <th>55401</th>\n",
       "      <td>1</td>\n",
       "      <td>2016-09-01</td>\n",
       "      <td>24.964</td>\n",
       "    </tr>\n",
       "    <tr>\n",
       "      <th>55897</th>\n",
       "      <td>1</td>\n",
       "      <td>2016-10-01</td>\n",
       "      <td>27.628</td>\n",
       "    </tr>\n",
       "    <tr>\n",
       "      <th>55959</th>\n",
       "      <td>1</td>\n",
       "      <td>2016-11-01</td>\n",
       "      <td>22.374</td>\n",
       "    </tr>\n",
       "    <tr>\n",
       "      <th>55215</th>\n",
       "      <td>1</td>\n",
       "      <td>2016-12-01</td>\n",
       "      <td>21.132</td>\n",
       "    </tr>\n",
       "    <tr>\n",
       "      <th>56331</th>\n",
       "      <td>1</td>\n",
       "      <td>2017-01-01</td>\n",
       "      <td>20.268</td>\n",
       "    </tr>\n",
       "    <tr>\n",
       "      <th>55649</th>\n",
       "      <td>1</td>\n",
       "      <td>2017-02-01</td>\n",
       "      <td>27.858</td>\n",
       "    </tr>\n",
       "    <tr>\n",
       "      <th>55835</th>\n",
       "      <td>1</td>\n",
       "      <td>2017-03-01</td>\n",
       "      <td>27.660</td>\n",
       "    </tr>\n",
       "    <tr>\n",
       "      <th>55773</th>\n",
       "      <td>1</td>\n",
       "      <td>2017-04-01</td>\n",
       "      <td>23.983</td>\n",
       "    </tr>\n",
       "    <tr>\n",
       "      <th>55711</th>\n",
       "      <td>1</td>\n",
       "      <td>2017-05-01</td>\n",
       "      <td>27.487</td>\n",
       "    </tr>\n",
       "    <tr>\n",
       "      <th>55339</th>\n",
       "      <td>1</td>\n",
       "      <td>2017-06-01</td>\n",
       "      <td>23.651</td>\n",
       "    </tr>\n",
       "    <tr>\n",
       "      <th>56083</th>\n",
       "      <td>1</td>\n",
       "      <td>2017-07-01</td>\n",
       "      <td>28.552</td>\n",
       "    </tr>\n",
       "    <tr>\n",
       "      <th>56207</th>\n",
       "      <td>1</td>\n",
       "      <td>2017-08-01</td>\n",
       "      <td>32.074</td>\n",
       "    </tr>\n",
       "    <tr>\n",
       "      <th>55463</th>\n",
       "      <td>1</td>\n",
       "      <td>2017-09-01</td>\n",
       "      <td>24.012</td>\n",
       "    </tr>\n",
       "    <tr>\n",
       "      <th>55277</th>\n",
       "      <td>1</td>\n",
       "      <td>2017-10-01</td>\n",
       "      <td>20.464</td>\n",
       "    </tr>\n",
       "    <tr>\n",
       "      <th>55525</th>\n",
       "      <td>1</td>\n",
       "      <td>2017-11-01</td>\n",
       "      <td>19.296</td>\n",
       "    </tr>\n",
       "    <tr>\n",
       "      <th>56021</th>\n",
       "      <td>1</td>\n",
       "      <td>2017-12-01</td>\n",
       "      <td>16.062</td>\n",
       "    </tr>\n",
       "  </tbody>\n",
       "</table>\n",
       "</div>"
      ],
      "text/plain": [
       "       SUBSCRIBER_ID BILL_MONTH  CHARGES\n",
       "55587              1 2016-06-01   21.137\n",
       "56269              1 2016-07-01   32.545\n",
       "56145              1 2016-08-01   30.042\n",
       "55401              1 2016-09-01   24.964\n",
       "55897              1 2016-10-01   27.628\n",
       "55959              1 2016-11-01   22.374\n",
       "55215              1 2016-12-01   21.132\n",
       "56331              1 2017-01-01   20.268\n",
       "55649              1 2017-02-01   27.858\n",
       "55835              1 2017-03-01   27.660\n",
       "55773              1 2017-04-01   23.983\n",
       "55711              1 2017-05-01   27.487\n",
       "55339              1 2017-06-01   23.651\n",
       "56083              1 2017-07-01   28.552\n",
       "56207              1 2017-08-01   32.074\n",
       "55463              1 2017-09-01   24.012\n",
       "55277              1 2017-10-01   20.464\n",
       "55525              1 2017-11-01   19.296\n",
       "56021              1 2017-12-01   16.062"
      ]
     },
     "execution_count": 12,
     "metadata": {},
     "output_type": "execute_result"
    }
   ],
   "source": [
    "charges_df[charges_df['SUBSCRIBER_ID'] == 1].sort_values(by='BILL_MONTH')"
   ]
  },
  {
   "cell_type": "code",
   "execution_count": 13,
   "metadata": {},
   "outputs": [
    {
     "data": {
      "text/html": [
       "<div>\n",
       "<style scoped>\n",
       "    .dataframe tbody tr th:only-of-type {\n",
       "        vertical-align: middle;\n",
       "    }\n",
       "\n",
       "    .dataframe tbody tr th {\n",
       "        vertical-align: top;\n",
       "    }\n",
       "\n",
       "    .dataframe thead th {\n",
       "        text-align: right;\n",
       "    }\n",
       "</style>\n",
       "<table border=\"1\" class=\"dataframe\">\n",
       "  <thead>\n",
       "    <tr style=\"text-align: right;\">\n",
       "      <th></th>\n",
       "      <th>SUBSCRIBER_ID</th>\n",
       "      <th>BILL_MONTH</th>\n",
       "      <th>CHARGES</th>\n",
       "    </tr>\n",
       "  </thead>\n",
       "  <tbody>\n",
       "    <tr>\n",
       "      <th>58664</th>\n",
       "      <td>2908</td>\n",
       "      <td>2017-12-01</td>\n",
       "      <td>5.124</td>\n",
       "    </tr>\n",
       "    <tr>\n",
       "      <th>22109</th>\n",
       "      <td>4749</td>\n",
       "      <td>2017-12-01</td>\n",
       "      <td>9.832</td>\n",
       "    </tr>\n",
       "    <tr>\n",
       "      <th>97724</th>\n",
       "      <td>5701</td>\n",
       "      <td>2017-12-01</td>\n",
       "      <td>0.000</td>\n",
       "    </tr>\n",
       "    <tr>\n",
       "      <th>58630</th>\n",
       "      <td>3428</td>\n",
       "      <td>2017-12-01</td>\n",
       "      <td>4.964</td>\n",
       "    </tr>\n",
       "    <tr>\n",
       "      <th>56297</th>\n",
       "      <td>2842</td>\n",
       "      <td>2017-12-01</td>\n",
       "      <td>5.224</td>\n",
       "    </tr>\n",
       "  </tbody>\n",
       "</table>\n",
       "</div>"
      ],
      "text/plain": [
       "       SUBSCRIBER_ID BILL_MONTH  CHARGES\n",
       "58664           2908 2017-12-01    5.124\n",
       "22109           4749 2017-12-01    9.832\n",
       "97724           5701 2017-12-01    0.000\n",
       "58630           3428 2017-12-01    4.964\n",
       "56297           2842 2017-12-01    5.224"
      ]
     },
     "execution_count": 13,
     "metadata": {},
     "output_type": "execute_result"
    }
   ],
   "source": [
    "charges_df.sort_values(by='BILL_MONTH').tail(5)"
   ]
  },
  {
   "cell_type": "code",
   "execution_count": 14,
   "metadata": {},
   "outputs": [],
   "source": [
    "charges_change_df = tariff_plans_df.copy()\n",
    "charges_change_df['PREV_PERIOD_CHARGE'] = None\n",
    "charges_change_df['POST_PERIOD_CHARGE'] = None\n",
    "charges_change_df['MIGRATION_TARIFF'] = None"
   ]
  },
  {
   "cell_type": "code",
   "execution_count": 15,
   "metadata": {},
   "outputs": [],
   "source": [
    "charges_change_df = charges_change_df.sort_values(by=['SUBSCRIBER_ID', 'START_DTTM'])"
   ]
  },
  {
   "cell_type": "code",
   "execution_count": null,
   "metadata": {},
   "outputs": [],
   "source": [
    "# Creating pre- and post- tariff change 3-month period average monthly charge for each of subscribers\n",
    "for ind, row in charges_change_df.iterrows():\n",
    "    sub_id, end_date = row['SUBSCRIBER_ID'], row['END_DTTM']\n",
    "    if end_date is pd.NaT:\n",
    "        continue\n",
    "\n",
    "    post_period_start = end_date.replace(day=1).normalize() + relativedelta(months=1)\n",
    "    post_period_end = end_date.replace(day=1).normalize() + relativedelta(months=3)    \n",
    "    post_period_mask = (charges_df['SUBSCRIBER_ID'] == sub_id) & (charges_df['BILL_MONTH'] >= post_period_start) & (charges_df['BILL_MONTH'] <= post_period_end)\n",
    "    post_charge = charges_df[post_period_mask]['CHARGES'].mean()\n",
    "\n",
    "    pre_period_end = end_date.replace(day=1).normalize() - relativedelta(months=1)\n",
    "    pre_period_start = end_date.replace(day=1).normalize() - relativedelta(months=3)\n",
    "    pre_period_mask = (charges_df['SUBSCRIBER_ID'] == sub_id) & (charges_df['BILL_MONTH'] >= pre_period_start) & (charges_df['BILL_MONTH'] <= pre_period_end)\n",
    "    pre_charge = charges_df[pre_period_mask]['CHARGES'].mean()\n",
    "    \n",
    "    charges_change_df.loc[ind, 'PREV_PERIOD_CHARGE'] = pre_charge\n",
    "    charges_change_df.loc[ind, 'POST_PERIOD_CHARGE'] = post_charge\n",
    "\n",
    "    \n",
    "    migration_tariff_mask = (charges_change_df['SUBSCRIBER_ID'] == sub_id) & (charges_change_df['START_DTTM'] >= end_date)\n",
    "    migration_tariff = charges_change_df[migration_tariff_mask]\n",
    "    if len(migration_tariff) == 0:            \n",
    "        charges_change_df.loc[ind, 'MIGRATION_TARIFF'] = -1\n",
    "    else:\n",
    "        charges_change_df.loc[ind, 'MIGRATION_TARIFF'] = migration_tariff.iloc[0]['TARIFF_PLAN_ID']    "
   ]
  },
  {
   "cell_type": "code",
   "execution_count": null,
   "metadata": {},
   "outputs": [],
   "source": [
    "# Drop useless information from created average monthly charge dataset\n",
    "charges_change_df.dropna(subset=['END_DTTM'], inplace=True)\n",
    "tariff_drop_ids = charges_change_df[charges_change_df['MIGRATION_TARIFF'] == -1].index\n",
    "charges_change_df.drop(tariff_drop_ids, axis=0, inplace=True)\n",
    "charges_change_df['MIGRATION_TARIFF'] = charges_change_df['MIGRATION_TARIFF'].astype('int16').astype('category')\n",
    "charges_change_df['PREV_PERIOD_CHARGE'] = charges_change_df['PREV_PERIOD_CHARGE'].astype('float64')\n",
    "charges_change_df['POST_PERIOD_CHARGE'] = charges_change_df['POST_PERIOD_CHARGE'].astype('float64')"
   ]
  },
  {
   "cell_type": "code",
   "execution_count": 18,
   "metadata": {},
   "outputs": [
    {
     "data": {
      "text/plain": [
       "1     5718\n",
       "2      233\n",
       "3       20\n",
       "4       15\n",
       "6        1\n",
       "14       1\n",
       "16       1\n",
       "Name: count, dtype: int64"
      ]
     },
     "execution_count": 18,
     "metadata": {},
     "output_type": "execute_result"
    }
   ],
   "source": [
    "charges_change_df.groupby('SUBSCRIBER_ID').size().value_counts()"
   ]
  },
  {
   "cell_type": "code",
   "execution_count": 19,
   "metadata": {},
   "outputs": [
    {
     "data": {
      "text/html": [
       "<div>\n",
       "<style scoped>\n",
       "    .dataframe tbody tr th:only-of-type {\n",
       "        vertical-align: middle;\n",
       "    }\n",
       "\n",
       "    .dataframe tbody tr th {\n",
       "        vertical-align: top;\n",
       "    }\n",
       "\n",
       "    .dataframe thead th {\n",
       "        text-align: right;\n",
       "    }\n",
       "</style>\n",
       "<table border=\"1\" class=\"dataframe\">\n",
       "  <thead>\n",
       "    <tr style=\"text-align: right;\">\n",
       "      <th></th>\n",
       "      <th>SUBSCRIBER_ID</th>\n",
       "      <th>TARIFF_PLAN_ID</th>\n",
       "      <th>START_DTTM</th>\n",
       "      <th>END_DTTM</th>\n",
       "      <th>PREV_PERIOD_CHARGE</th>\n",
       "      <th>POST_PERIOD_CHARGE</th>\n",
       "      <th>MIGRATION_TARIFF</th>\n",
       "    </tr>\n",
       "  </thead>\n",
       "  <tbody>\n",
       "    <tr>\n",
       "      <th>0</th>\n",
       "      <td>1</td>\n",
       "      <td>2</td>\n",
       "      <td>2013-11-22 21:10:08</td>\n",
       "      <td>2017-03-11 14:24:17</td>\n",
       "      <td>23.086000</td>\n",
       "      <td>25.040333</td>\n",
       "      <td>3</td>\n",
       "    </tr>\n",
       "    <tr>\n",
       "      <th>2</th>\n",
       "      <td>2</td>\n",
       "      <td>1</td>\n",
       "      <td>2016-02-05 16:36:34</td>\n",
       "      <td>2017-06-29 12:39:58</td>\n",
       "      <td>5.591667</td>\n",
       "      <td>5.132000</td>\n",
       "      <td>5</td>\n",
       "    </tr>\n",
       "    <tr>\n",
       "      <th>4</th>\n",
       "      <td>3</td>\n",
       "      <td>1</td>\n",
       "      <td>2015-05-06 19:17:46</td>\n",
       "      <td>2017-04-14 12:00:59</td>\n",
       "      <td>5.193000</td>\n",
       "      <td>4.997333</td>\n",
       "      <td>5</td>\n",
       "    </tr>\n",
       "    <tr>\n",
       "      <th>6</th>\n",
       "      <td>4</td>\n",
       "      <td>3</td>\n",
       "      <td>2016-01-27 23:03:51</td>\n",
       "      <td>2017-01-09 19:27:50</td>\n",
       "      <td>6.670000</td>\n",
       "      <td>4.812000</td>\n",
       "      <td>5</td>\n",
       "    </tr>\n",
       "    <tr>\n",
       "      <th>8</th>\n",
       "      <td>5</td>\n",
       "      <td>1</td>\n",
       "      <td>2016-02-06 08:07:15</td>\n",
       "      <td>2017-05-08 12:39:59</td>\n",
       "      <td>3.720333</td>\n",
       "      <td>4.788000</td>\n",
       "      <td>5</td>\n",
       "    </tr>\n",
       "    <tr>\n",
       "      <th>10</th>\n",
       "      <td>6</td>\n",
       "      <td>1</td>\n",
       "      <td>2010-05-20 13:54:35</td>\n",
       "      <td>2017-01-17 14:12:51</td>\n",
       "      <td>7.490000</td>\n",
       "      <td>5.481667</td>\n",
       "      <td>5</td>\n",
       "    </tr>\n",
       "    <tr>\n",
       "      <th>12</th>\n",
       "      <td>7</td>\n",
       "      <td>3</td>\n",
       "      <td>2015-01-15 15:06:52</td>\n",
       "      <td>2017-05-01 17:45:46</td>\n",
       "      <td>13.984333</td>\n",
       "      <td>7.517333</td>\n",
       "      <td>5</td>\n",
       "    </tr>\n",
       "    <tr>\n",
       "      <th>14</th>\n",
       "      <td>8</td>\n",
       "      <td>3</td>\n",
       "      <td>2016-01-15 18:43:18</td>\n",
       "      <td>2017-02-01 14:22:22</td>\n",
       "      <td>5.263000</td>\n",
       "      <td>1.559333</td>\n",
       "      <td>4</td>\n",
       "    </tr>\n",
       "    <tr>\n",
       "      <th>16</th>\n",
       "      <td>9</td>\n",
       "      <td>3</td>\n",
       "      <td>2010-05-26 11:42:19</td>\n",
       "      <td>2017-02-11 11:19:01</td>\n",
       "      <td>2.075333</td>\n",
       "      <td>2.099333</td>\n",
       "      <td>4</td>\n",
       "    </tr>\n",
       "    <tr>\n",
       "      <th>18</th>\n",
       "      <td>10</td>\n",
       "      <td>1</td>\n",
       "      <td>2015-09-08 17:19:55</td>\n",
       "      <td>2017-04-28 18:07:22</td>\n",
       "      <td>5.516667</td>\n",
       "      <td>5.189333</td>\n",
       "      <td>5</td>\n",
       "    </tr>\n",
       "  </tbody>\n",
       "</table>\n",
       "</div>"
      ],
      "text/plain": [
       "    SUBSCRIBER_ID TARIFF_PLAN_ID          START_DTTM            END_DTTM  \\\n",
       "0               1              2 2013-11-22 21:10:08 2017-03-11 14:24:17   \n",
       "2               2              1 2016-02-05 16:36:34 2017-06-29 12:39:58   \n",
       "4               3              1 2015-05-06 19:17:46 2017-04-14 12:00:59   \n",
       "6               4              3 2016-01-27 23:03:51 2017-01-09 19:27:50   \n",
       "8               5              1 2016-02-06 08:07:15 2017-05-08 12:39:59   \n",
       "10              6              1 2010-05-20 13:54:35 2017-01-17 14:12:51   \n",
       "12              7              3 2015-01-15 15:06:52 2017-05-01 17:45:46   \n",
       "14              8              3 2016-01-15 18:43:18 2017-02-01 14:22:22   \n",
       "16              9              3 2010-05-26 11:42:19 2017-02-11 11:19:01   \n",
       "18             10              1 2015-09-08 17:19:55 2017-04-28 18:07:22   \n",
       "\n",
       "    PREV_PERIOD_CHARGE  POST_PERIOD_CHARGE MIGRATION_TARIFF  \n",
       "0            23.086000           25.040333                3  \n",
       "2             5.591667            5.132000                5  \n",
       "4             5.193000            4.997333                5  \n",
       "6             6.670000            4.812000                5  \n",
       "8             3.720333            4.788000                5  \n",
       "10            7.490000            5.481667                5  \n",
       "12           13.984333            7.517333                5  \n",
       "14            5.263000            1.559333                4  \n",
       "16            2.075333            2.099333                4  \n",
       "18            5.516667            5.189333                5  "
      ]
     },
     "execution_count": 19,
     "metadata": {},
     "output_type": "execute_result"
    }
   ],
   "source": [
    "charges_change_df.head(10)"
   ]
  },
  {
   "cell_type": "code",
   "execution_count": null,
   "metadata": {},
   "outputs": [
    {
     "name": "stderr",
     "output_type": "stream",
     "text": [
      "C:\\Users\\-PC-\\AppData\\Local\\Temp\\ipykernel_4368\\2429356634.py:1: FutureWarning:\n",
      "\n",
      "The default of observed=False is deprecated and will be changed to True in a future version of pandas. Pass observed=False to retain current behavior or observed=True to adopt the future default and silence this warning.\n",
      "\n"
     ]
    },
    {
     "data": {
      "text/html": [
       "<div>\n",
       "<style scoped>\n",
       "    .dataframe tbody tr th:only-of-type {\n",
       "        vertical-align: middle;\n",
       "    }\n",
       "\n",
       "    .dataframe tbody tr th {\n",
       "        vertical-align: top;\n",
       "    }\n",
       "\n",
       "    .dataframe thead th {\n",
       "        text-align: right;\n",
       "    }\n",
       "</style>\n",
       "<table border=\"1\" class=\"dataframe\">\n",
       "  <thead>\n",
       "    <tr style=\"text-align: right;\">\n",
       "      <th></th>\n",
       "      <th>TARIFF_PLAN_ID</th>\n",
       "      <th>MIGRATION_TARIFF</th>\n",
       "      <th>PREV_PERIOD_MEAN</th>\n",
       "      <th>POST_PERIOD_MEAN</th>\n",
       "      <th>DELTA_CHARGE</th>\n",
       "    </tr>\n",
       "  </thead>\n",
       "  <tbody>\n",
       "    <tr>\n",
       "      <th>1</th>\n",
       "      <td>1</td>\n",
       "      <td>2</td>\n",
       "      <td>5.128467</td>\n",
       "      <td>3.989200</td>\n",
       "      <td>-1.139267</td>\n",
       "    </tr>\n",
       "    <tr>\n",
       "      <th>2</th>\n",
       "      <td>1</td>\n",
       "      <td>3</td>\n",
       "      <td>11.287133</td>\n",
       "      <td>10.026624</td>\n",
       "      <td>-1.260509</td>\n",
       "    </tr>\n",
       "    <tr>\n",
       "      <th>3</th>\n",
       "      <td>1</td>\n",
       "      <td>4</td>\n",
       "      <td>6.443156</td>\n",
       "      <td>4.603508</td>\n",
       "      <td>-1.839649</td>\n",
       "    </tr>\n",
       "    <tr>\n",
       "      <th>4</th>\n",
       "      <td>1</td>\n",
       "      <td>5</td>\n",
       "      <td>9.021070</td>\n",
       "      <td>6.964071</td>\n",
       "      <td>-2.056999</td>\n",
       "    </tr>\n",
       "    <tr>\n",
       "      <th>5</th>\n",
       "      <td>2</td>\n",
       "      <td>1</td>\n",
       "      <td>7.857000</td>\n",
       "      <td>6.910051</td>\n",
       "      <td>-0.946949</td>\n",
       "    </tr>\n",
       "    <tr>\n",
       "      <th>7</th>\n",
       "      <td>2</td>\n",
       "      <td>3</td>\n",
       "      <td>12.844017</td>\n",
       "      <td>9.495733</td>\n",
       "      <td>-3.348283</td>\n",
       "    </tr>\n",
       "    <tr>\n",
       "      <th>8</th>\n",
       "      <td>2</td>\n",
       "      <td>4</td>\n",
       "      <td>6.013911</td>\n",
       "      <td>4.248722</td>\n",
       "      <td>-1.765189</td>\n",
       "    </tr>\n",
       "    <tr>\n",
       "      <th>9</th>\n",
       "      <td>2</td>\n",
       "      <td>5</td>\n",
       "      <td>8.233916</td>\n",
       "      <td>6.599886</td>\n",
       "      <td>-1.634030</td>\n",
       "    </tr>\n",
       "    <tr>\n",
       "      <th>10</th>\n",
       "      <td>3</td>\n",
       "      <td>1</td>\n",
       "      <td>8.736103</td>\n",
       "      <td>7.831724</td>\n",
       "      <td>-0.904379</td>\n",
       "    </tr>\n",
       "    <tr>\n",
       "      <th>11</th>\n",
       "      <td>3</td>\n",
       "      <td>2</td>\n",
       "      <td>9.583917</td>\n",
       "      <td>12.377389</td>\n",
       "      <td>2.793472</td>\n",
       "    </tr>\n",
       "    <tr>\n",
       "      <th>13</th>\n",
       "      <td>3</td>\n",
       "      <td>4</td>\n",
       "      <td>8.184252</td>\n",
       "      <td>5.800113</td>\n",
       "      <td>-2.384138</td>\n",
       "    </tr>\n",
       "    <tr>\n",
       "      <th>14</th>\n",
       "      <td>3</td>\n",
       "      <td>5</td>\n",
       "      <td>9.263017</td>\n",
       "      <td>7.098891</td>\n",
       "      <td>-2.164126</td>\n",
       "    </tr>\n",
       "    <tr>\n",
       "      <th>15</th>\n",
       "      <td>4</td>\n",
       "      <td>1</td>\n",
       "      <td>6.044613</td>\n",
       "      <td>6.805009</td>\n",
       "      <td>0.760396</td>\n",
       "    </tr>\n",
       "    <tr>\n",
       "      <th>16</th>\n",
       "      <td>4</td>\n",
       "      <td>2</td>\n",
       "      <td>5.275917</td>\n",
       "      <td>6.077283</td>\n",
       "      <td>0.801367</td>\n",
       "    </tr>\n",
       "    <tr>\n",
       "      <th>17</th>\n",
       "      <td>4</td>\n",
       "      <td>3</td>\n",
       "      <td>10.513113</td>\n",
       "      <td>10.249971</td>\n",
       "      <td>-0.263142</td>\n",
       "    </tr>\n",
       "    <tr>\n",
       "      <th>19</th>\n",
       "      <td>4</td>\n",
       "      <td>5</td>\n",
       "      <td>7.469682</td>\n",
       "      <td>7.251141</td>\n",
       "      <td>-0.218541</td>\n",
       "    </tr>\n",
       "    <tr>\n",
       "      <th>20</th>\n",
       "      <td>5</td>\n",
       "      <td>1</td>\n",
       "      <td>8.319859</td>\n",
       "      <td>7.574640</td>\n",
       "      <td>-0.745220</td>\n",
       "    </tr>\n",
       "    <tr>\n",
       "      <th>21</th>\n",
       "      <td>5</td>\n",
       "      <td>2</td>\n",
       "      <td>2.777083</td>\n",
       "      <td>3.800083</td>\n",
       "      <td>1.023000</td>\n",
       "    </tr>\n",
       "    <tr>\n",
       "      <th>22</th>\n",
       "      <td>5</td>\n",
       "      <td>3</td>\n",
       "      <td>8.650502</td>\n",
       "      <td>8.746130</td>\n",
       "      <td>0.095628</td>\n",
       "    </tr>\n",
       "    <tr>\n",
       "      <th>23</th>\n",
       "      <td>5</td>\n",
       "      <td>4</td>\n",
       "      <td>7.104245</td>\n",
       "      <td>4.770268</td>\n",
       "      <td>-2.333977</td>\n",
       "    </tr>\n",
       "  </tbody>\n",
       "</table>\n",
       "</div>"
      ],
      "text/plain": [
       "   TARIFF_PLAN_ID MIGRATION_TARIFF  PREV_PERIOD_MEAN  POST_PERIOD_MEAN  \\\n",
       "1               1                2          5.128467          3.989200   \n",
       "2               1                3         11.287133         10.026624   \n",
       "3               1                4          6.443156          4.603508   \n",
       "4               1                5          9.021070          6.964071   \n",
       "5               2                1          7.857000          6.910051   \n",
       "7               2                3         12.844017          9.495733   \n",
       "8               2                4          6.013911          4.248722   \n",
       "9               2                5          8.233916          6.599886   \n",
       "10              3                1          8.736103          7.831724   \n",
       "11              3                2          9.583917         12.377389   \n",
       "13              3                4          8.184252          5.800113   \n",
       "14              3                5          9.263017          7.098891   \n",
       "15              4                1          6.044613          6.805009   \n",
       "16              4                2          5.275917          6.077283   \n",
       "17              4                3         10.513113         10.249971   \n",
       "19              4                5          7.469682          7.251141   \n",
       "20              5                1          8.319859          7.574640   \n",
       "21              5                2          2.777083          3.800083   \n",
       "22              5                3          8.650502          8.746130   \n",
       "23              5                4          7.104245          4.770268   \n",
       "\n",
       "    DELTA_CHARGE  \n",
       "1      -1.139267  \n",
       "2      -1.260509  \n",
       "3      -1.839649  \n",
       "4      -2.056999  \n",
       "5      -0.946949  \n",
       "7      -3.348283  \n",
       "8      -1.765189  \n",
       "9      -1.634030  \n",
       "10     -0.904379  \n",
       "11      2.793472  \n",
       "13     -2.384138  \n",
       "14     -2.164126  \n",
       "15      0.760396  \n",
       "16      0.801367  \n",
       "17     -0.263142  \n",
       "19     -0.218541  \n",
       "20     -0.745220  \n",
       "21      1.023000  \n",
       "22      0.095628  \n",
       "23     -2.333977  "
      ]
     },
     "execution_count": 20,
     "metadata": {},
     "output_type": "execute_result"
    }
   ],
   "source": [
    "# Creating pre- and post- tariff change 3-month period average agregating by migration flows\n",
    "charges_change_df_agg = charges_change_df.groupby(['TARIFF_PLAN_ID', 'MIGRATION_TARIFF']).agg(\n",
    "    PREV_PERIOD_MEAN=('PREV_PERIOD_CHARGE', 'mean'),\n",
    "    POST_PERIOD_MEAN=('POST_PERIOD_CHARGE', 'mean')\n",
    ")\n",
    "charges_change_df_agg.reset_index(inplace=True)\n",
    "same_tariff_drop_mask = charges_change_df_agg['TARIFF_PLAN_ID'] == charges_change_df_agg['MIGRATION_TARIFF']\n",
    "same_tariff_drop_ids = charges_change_df_agg[same_tariff_drop_mask].index\n",
    "charges_change_df_agg.drop(same_tariff_drop_ids, axis=0, inplace = True)\n",
    "charges_change_df_agg['DELTA_CHARGE'] = charges_change_df_agg['POST_PERIOD_MEAN'] - charges_change_df_agg['PREV_PERIOD_MEAN']\n",
    "charges_change_df_agg"
   ]
  },
  {
   "cell_type": "code",
   "execution_count": null,
   "metadata": {},
   "outputs": [
    {
     "data": {
      "application/vnd.plotly.v1+json": {
       "config": {
        "plotlyServerURL": "https://plot.ly"
       },
       "data": [
        {
         "alignmentgroup": "True",
         "hovertemplate": "Delta of Average Charges After Migration=%{marker.color}<br>Migration Direction=%{y}<extra></extra>",
         "legendgroup": "",
         "marker": {
          "color": [
           -1.139266666666666,
           -1.2605090909090908,
           -1.839648562165804,
           -2.056999219965423,
           -0.946948717948719,
           -3.348283333333333,
           -1.7651893090381359,
           -1.6340295763389294,
           -0.9043793103448259,
           2.7934722222222224,
           -2.384138364779874,
           -2.164125611973703,
           0.7603963963963967,
           0.8013666666666666,
           -0.2631423350041775,
           -0.21854144221612604,
           -0.7452199028672819,
           1.0230000000000001,
           0.09562785907859173,
           -2.3339769241029744
          ],
          "coloraxis": "coloraxis",
          "pattern": {
           "shape": ""
          }
         },
         "name": "",
         "offsetgroup": "",
         "orientation": "h",
         "showlegend": false,
         "textposition": "auto",
         "type": "bar",
         "x": [
          -1.139266666666666,
          -1.2605090909090908,
          -1.839648562165804,
          -2.056999219965423,
          -0.946948717948719,
          -3.348283333333333,
          -1.7651893090381359,
          -1.6340295763389294,
          -0.9043793103448259,
          2.7934722222222224,
          -2.384138364779874,
          -2.164125611973703,
          0.7603963963963967,
          0.8013666666666666,
          -0.2631423350041775,
          -0.21854144221612604,
          -0.7452199028672819,
          1.0230000000000001,
          0.09562785907859173,
          -2.3339769241029744
         ],
         "xaxis": "x",
         "y": [
          "Tariff 1 → Tariff 2",
          "Tariff 1 → Tariff 3",
          "Tariff 1 → Tariff 4",
          "Tariff 1 → Tariff 5",
          "Tariff 2 → Tariff 1",
          "Tariff 2 → Tariff 3",
          "Tariff 2 → Tariff 4",
          "Tariff 2 → Tariff 5",
          "Tariff 3 → Tariff 1",
          "Tariff 3 → Tariff 2",
          "Tariff 3 → Tariff 4",
          "Tariff 3 → Tariff 5",
          "Tariff 4 → Tariff 1",
          "Tariff 4 → Tariff 2",
          "Tariff 4 → Tariff 3",
          "Tariff 4 → Tariff 5",
          "Tariff 5 → Tariff 1",
          "Tariff 5 → Tariff 2",
          "Tariff 5 → Tariff 3",
          "Tariff 5 → Tariff 4"
         ],
         "yaxis": "y"
        }
       ],
       "layout": {
        "barmode": "relative",
        "coloraxis": {
         "colorbar": {
          "title": {
           "text": "Delta of Average Charges After Migration"
          }
         },
         "colorscale": [
          [
           0,
           "red"
          ],
          [
           0.5,
           "yellow"
          ],
          [
           1,
           "green"
          ]
         ]
        },
        "font": {
         "size": 20
        },
        "height": 1080,
        "legend": {
         "tracegroupgap": 0
        },
        "template": {
         "data": {
          "bar": [
           {
            "error_x": {
             "color": "#2a3f5f"
            },
            "error_y": {
             "color": "#2a3f5f"
            },
            "marker": {
             "line": {
              "color": "#E5ECF6",
              "width": 0.5
             },
             "pattern": {
              "fillmode": "overlay",
              "size": 10,
              "solidity": 0.2
             }
            },
            "type": "bar"
           }
          ],
          "barpolar": [
           {
            "marker": {
             "line": {
              "color": "#E5ECF6",
              "width": 0.5
             },
             "pattern": {
              "fillmode": "overlay",
              "size": 10,
              "solidity": 0.2
             }
            },
            "type": "barpolar"
           }
          ],
          "carpet": [
           {
            "aaxis": {
             "endlinecolor": "#2a3f5f",
             "gridcolor": "white",
             "linecolor": "white",
             "minorgridcolor": "white",
             "startlinecolor": "#2a3f5f"
            },
            "baxis": {
             "endlinecolor": "#2a3f5f",
             "gridcolor": "white",
             "linecolor": "white",
             "minorgridcolor": "white",
             "startlinecolor": "#2a3f5f"
            },
            "type": "carpet"
           }
          ],
          "choropleth": [
           {
            "colorbar": {
             "outlinewidth": 0,
             "ticks": ""
            },
            "type": "choropleth"
           }
          ],
          "contour": [
           {
            "colorbar": {
             "outlinewidth": 0,
             "ticks": ""
            },
            "colorscale": [
             [
              0,
              "#0d0887"
             ],
             [
              0.1111111111111111,
              "#46039f"
             ],
             [
              0.2222222222222222,
              "#7201a8"
             ],
             [
              0.3333333333333333,
              "#9c179e"
             ],
             [
              0.4444444444444444,
              "#bd3786"
             ],
             [
              0.5555555555555556,
              "#d8576b"
             ],
             [
              0.6666666666666666,
              "#ed7953"
             ],
             [
              0.7777777777777778,
              "#fb9f3a"
             ],
             [
              0.8888888888888888,
              "#fdca26"
             ],
             [
              1,
              "#f0f921"
             ]
            ],
            "type": "contour"
           }
          ],
          "contourcarpet": [
           {
            "colorbar": {
             "outlinewidth": 0,
             "ticks": ""
            },
            "type": "contourcarpet"
           }
          ],
          "heatmap": [
           {
            "colorbar": {
             "outlinewidth": 0,
             "ticks": ""
            },
            "colorscale": [
             [
              0,
              "#0d0887"
             ],
             [
              0.1111111111111111,
              "#46039f"
             ],
             [
              0.2222222222222222,
              "#7201a8"
             ],
             [
              0.3333333333333333,
              "#9c179e"
             ],
             [
              0.4444444444444444,
              "#bd3786"
             ],
             [
              0.5555555555555556,
              "#d8576b"
             ],
             [
              0.6666666666666666,
              "#ed7953"
             ],
             [
              0.7777777777777778,
              "#fb9f3a"
             ],
             [
              0.8888888888888888,
              "#fdca26"
             ],
             [
              1,
              "#f0f921"
             ]
            ],
            "type": "heatmap"
           }
          ],
          "heatmapgl": [
           {
            "colorbar": {
             "outlinewidth": 0,
             "ticks": ""
            },
            "colorscale": [
             [
              0,
              "#0d0887"
             ],
             [
              0.1111111111111111,
              "#46039f"
             ],
             [
              0.2222222222222222,
              "#7201a8"
             ],
             [
              0.3333333333333333,
              "#9c179e"
             ],
             [
              0.4444444444444444,
              "#bd3786"
             ],
             [
              0.5555555555555556,
              "#d8576b"
             ],
             [
              0.6666666666666666,
              "#ed7953"
             ],
             [
              0.7777777777777778,
              "#fb9f3a"
             ],
             [
              0.8888888888888888,
              "#fdca26"
             ],
             [
              1,
              "#f0f921"
             ]
            ],
            "type": "heatmapgl"
           }
          ],
          "histogram": [
           {
            "marker": {
             "pattern": {
              "fillmode": "overlay",
              "size": 10,
              "solidity": 0.2
             }
            },
            "type": "histogram"
           }
          ],
          "histogram2d": [
           {
            "colorbar": {
             "outlinewidth": 0,
             "ticks": ""
            },
            "colorscale": [
             [
              0,
              "#0d0887"
             ],
             [
              0.1111111111111111,
              "#46039f"
             ],
             [
              0.2222222222222222,
              "#7201a8"
             ],
             [
              0.3333333333333333,
              "#9c179e"
             ],
             [
              0.4444444444444444,
              "#bd3786"
             ],
             [
              0.5555555555555556,
              "#d8576b"
             ],
             [
              0.6666666666666666,
              "#ed7953"
             ],
             [
              0.7777777777777778,
              "#fb9f3a"
             ],
             [
              0.8888888888888888,
              "#fdca26"
             ],
             [
              1,
              "#f0f921"
             ]
            ],
            "type": "histogram2d"
           }
          ],
          "histogram2dcontour": [
           {
            "colorbar": {
             "outlinewidth": 0,
             "ticks": ""
            },
            "colorscale": [
             [
              0,
              "#0d0887"
             ],
             [
              0.1111111111111111,
              "#46039f"
             ],
             [
              0.2222222222222222,
              "#7201a8"
             ],
             [
              0.3333333333333333,
              "#9c179e"
             ],
             [
              0.4444444444444444,
              "#bd3786"
             ],
             [
              0.5555555555555556,
              "#d8576b"
             ],
             [
              0.6666666666666666,
              "#ed7953"
             ],
             [
              0.7777777777777778,
              "#fb9f3a"
             ],
             [
              0.8888888888888888,
              "#fdca26"
             ],
             [
              1,
              "#f0f921"
             ]
            ],
            "type": "histogram2dcontour"
           }
          ],
          "mesh3d": [
           {
            "colorbar": {
             "outlinewidth": 0,
             "ticks": ""
            },
            "type": "mesh3d"
           }
          ],
          "parcoords": [
           {
            "line": {
             "colorbar": {
              "outlinewidth": 0,
              "ticks": ""
             }
            },
            "type": "parcoords"
           }
          ],
          "pie": [
           {
            "automargin": true,
            "type": "pie"
           }
          ],
          "scatter": [
           {
            "fillpattern": {
             "fillmode": "overlay",
             "size": 10,
             "solidity": 0.2
            },
            "type": "scatter"
           }
          ],
          "scatter3d": [
           {
            "line": {
             "colorbar": {
              "outlinewidth": 0,
              "ticks": ""
             }
            },
            "marker": {
             "colorbar": {
              "outlinewidth": 0,
              "ticks": ""
             }
            },
            "type": "scatter3d"
           }
          ],
          "scattercarpet": [
           {
            "marker": {
             "colorbar": {
              "outlinewidth": 0,
              "ticks": ""
             }
            },
            "type": "scattercarpet"
           }
          ],
          "scattergeo": [
           {
            "marker": {
             "colorbar": {
              "outlinewidth": 0,
              "ticks": ""
             }
            },
            "type": "scattergeo"
           }
          ],
          "scattergl": [
           {
            "marker": {
             "colorbar": {
              "outlinewidth": 0,
              "ticks": ""
             }
            },
            "type": "scattergl"
           }
          ],
          "scattermapbox": [
           {
            "marker": {
             "colorbar": {
              "outlinewidth": 0,
              "ticks": ""
             }
            },
            "type": "scattermapbox"
           }
          ],
          "scatterpolar": [
           {
            "marker": {
             "colorbar": {
              "outlinewidth": 0,
              "ticks": ""
             }
            },
            "type": "scatterpolar"
           }
          ],
          "scatterpolargl": [
           {
            "marker": {
             "colorbar": {
              "outlinewidth": 0,
              "ticks": ""
             }
            },
            "type": "scatterpolargl"
           }
          ],
          "scatterternary": [
           {
            "marker": {
             "colorbar": {
              "outlinewidth": 0,
              "ticks": ""
             }
            },
            "type": "scatterternary"
           }
          ],
          "surface": [
           {
            "colorbar": {
             "outlinewidth": 0,
             "ticks": ""
            },
            "colorscale": [
             [
              0,
              "#0d0887"
             ],
             [
              0.1111111111111111,
              "#46039f"
             ],
             [
              0.2222222222222222,
              "#7201a8"
             ],
             [
              0.3333333333333333,
              "#9c179e"
             ],
             [
              0.4444444444444444,
              "#bd3786"
             ],
             [
              0.5555555555555556,
              "#d8576b"
             ],
             [
              0.6666666666666666,
              "#ed7953"
             ],
             [
              0.7777777777777778,
              "#fb9f3a"
             ],
             [
              0.8888888888888888,
              "#fdca26"
             ],
             [
              1,
              "#f0f921"
             ]
            ],
            "type": "surface"
           }
          ],
          "table": [
           {
            "cells": {
             "fill": {
              "color": "#EBF0F8"
             },
             "line": {
              "color": "white"
             }
            },
            "header": {
             "fill": {
              "color": "#C8D4E3"
             },
             "line": {
              "color": "white"
             }
            },
            "type": "table"
           }
          ]
         },
         "layout": {
          "annotationdefaults": {
           "arrowcolor": "#2a3f5f",
           "arrowhead": 0,
           "arrowwidth": 1
          },
          "autotypenumbers": "strict",
          "coloraxis": {
           "colorbar": {
            "outlinewidth": 0,
            "ticks": ""
           }
          },
          "colorscale": {
           "diverging": [
            [
             0,
             "#8e0152"
            ],
            [
             0.1,
             "#c51b7d"
            ],
            [
             0.2,
             "#de77ae"
            ],
            [
             0.3,
             "#f1b6da"
            ],
            [
             0.4,
             "#fde0ef"
            ],
            [
             0.5,
             "#f7f7f7"
            ],
            [
             0.6,
             "#e6f5d0"
            ],
            [
             0.7,
             "#b8e186"
            ],
            [
             0.8,
             "#7fbc41"
            ],
            [
             0.9,
             "#4d9221"
            ],
            [
             1,
             "#276419"
            ]
           ],
           "sequential": [
            [
             0,
             "#0d0887"
            ],
            [
             0.1111111111111111,
             "#46039f"
            ],
            [
             0.2222222222222222,
             "#7201a8"
            ],
            [
             0.3333333333333333,
             "#9c179e"
            ],
            [
             0.4444444444444444,
             "#bd3786"
            ],
            [
             0.5555555555555556,
             "#d8576b"
            ],
            [
             0.6666666666666666,
             "#ed7953"
            ],
            [
             0.7777777777777778,
             "#fb9f3a"
            ],
            [
             0.8888888888888888,
             "#fdca26"
            ],
            [
             1,
             "#f0f921"
            ]
           ],
           "sequentialminus": [
            [
             0,
             "#0d0887"
            ],
            [
             0.1111111111111111,
             "#46039f"
            ],
            [
             0.2222222222222222,
             "#7201a8"
            ],
            [
             0.3333333333333333,
             "#9c179e"
            ],
            [
             0.4444444444444444,
             "#bd3786"
            ],
            [
             0.5555555555555556,
             "#d8576b"
            ],
            [
             0.6666666666666666,
             "#ed7953"
            ],
            [
             0.7777777777777778,
             "#fb9f3a"
            ],
            [
             0.8888888888888888,
             "#fdca26"
            ],
            [
             1,
             "#f0f921"
            ]
           ]
          },
          "colorway": [
           "#636efa",
           "#EF553B",
           "#00cc96",
           "#ab63fa",
           "#FFA15A",
           "#19d3f3",
           "#FF6692",
           "#B6E880",
           "#FF97FF",
           "#FECB52"
          ],
          "font": {
           "color": "#2a3f5f"
          },
          "geo": {
           "bgcolor": "white",
           "lakecolor": "white",
           "landcolor": "#E5ECF6",
           "showlakes": true,
           "showland": true,
           "subunitcolor": "white"
          },
          "hoverlabel": {
           "align": "left"
          },
          "hovermode": "closest",
          "mapbox": {
           "style": "light"
          },
          "paper_bgcolor": "white",
          "plot_bgcolor": "#E5ECF6",
          "polar": {
           "angularaxis": {
            "gridcolor": "white",
            "linecolor": "white",
            "ticks": ""
           },
           "bgcolor": "#E5ECF6",
           "radialaxis": {
            "gridcolor": "white",
            "linecolor": "white",
            "ticks": ""
           }
          },
          "scene": {
           "xaxis": {
            "backgroundcolor": "#E5ECF6",
            "gridcolor": "white",
            "gridwidth": 2,
            "linecolor": "white",
            "showbackground": true,
            "ticks": "",
            "zerolinecolor": "white"
           },
           "yaxis": {
            "backgroundcolor": "#E5ECF6",
            "gridcolor": "white",
            "gridwidth": 2,
            "linecolor": "white",
            "showbackground": true,
            "ticks": "",
            "zerolinecolor": "white"
           },
           "zaxis": {
            "backgroundcolor": "#E5ECF6",
            "gridcolor": "white",
            "gridwidth": 2,
            "linecolor": "white",
            "showbackground": true,
            "ticks": "",
            "zerolinecolor": "white"
           }
          },
          "shapedefaults": {
           "line": {
            "color": "#2a3f5f"
           }
          },
          "ternary": {
           "aaxis": {
            "gridcolor": "white",
            "linecolor": "white",
            "ticks": ""
           },
           "baxis": {
            "gridcolor": "white",
            "linecolor": "white",
            "ticks": ""
           },
           "bgcolor": "#E5ECF6",
           "caxis": {
            "gridcolor": "white",
            "linecolor": "white",
            "ticks": ""
           }
          },
          "title": {
           "x": 0.05
          },
          "xaxis": {
           "automargin": true,
           "gridcolor": "white",
           "linecolor": "white",
           "ticks": "",
           "title": {
            "standoff": 15
           },
           "zerolinecolor": "white",
           "zerolinewidth": 2
          },
          "yaxis": {
           "automargin": true,
           "gridcolor": "white",
           "linecolor": "white",
           "ticks": "",
           "title": {
            "standoff": 15
           },
           "zerolinecolor": "white",
           "zerolinewidth": 2
          }
         }
        },
        "title": {
         "text": "Change in Average Charges After Tariff Migration"
        },
        "xaxis": {
         "anchor": "y",
         "domain": [
          0,
          1
         ],
         "title": {
          "text": "Delta of Average Charges After Migration"
         }
        },
        "yaxis": {
         "anchor": "x",
         "domain": [
          0,
          1
         ],
         "title": {
          "text": "Migration Direction"
         }
        }
       }
      }
     },
     "metadata": {},
     "output_type": "display_data"
    }
   ],
   "source": [
    "# Bar plot for created average monthly charge change dataset\n",
    "fig = px.bar(\n",
    "    charges_change_df_agg,\n",
    "    x='DELTA_CHARGE',\n",
    "    y=charges_change_df_agg.apply(lambda x: f\"Tariff {int(x['TARIFF_PLAN_ID'])} → Tariff {int(x['MIGRATION_TARIFF'])}\", axis=1),\n",
    "    orientation='h',\n",
    "    color='DELTA_CHARGE',\n",
    "    color_continuous_scale=['red', 'yellow', 'green'],\n",
    "    title='Change in Average Charges After Tariff Migration',\n",
    "    labels={'DELTA_CHARGE': 'Delta of Average Charges After Migration', 'y': 'Migration Direction'}\n",
    ")\n",
    "fig.update_layout(\n",
    "    xaxis_title='Delta of Average Charges After Migration', \n",
    "    yaxis_title='Migration Direction',\n",
    "    height=1080,\n",
    "    font=dict(size=20)\n",
    ")\n",
    "fig.show()"
   ]
  },
  {
   "cell_type": "code",
   "execution_count": 22,
   "metadata": {},
   "outputs": [
    {
     "name": "stdout",
     "output_type": "stream",
     "text": [
      "Average charge change by all migration flows: -0.8765267611645594\n"
     ]
    }
   ],
   "source": [
    "print(f'Average charge change by all migration flows: {charges_change_df_agg[\"DELTA_CHARGE\"].mean()}')"
   ]
  },
  {
   "cell_type": "markdown",
   "metadata": {},
   "source": [
    "## Suspensions analysis"
   ]
  },
  {
   "cell_type": "code",
   "execution_count": 23,
   "metadata": {},
   "outputs": [
    {
     "data": {
      "text/html": [
       "<div>\n",
       "<style scoped>\n",
       "    .dataframe tbody tr th:only-of-type {\n",
       "        vertical-align: middle;\n",
       "    }\n",
       "\n",
       "    .dataframe tbody tr th {\n",
       "        vertical-align: top;\n",
       "    }\n",
       "\n",
       "    .dataframe thead th {\n",
       "        text-align: right;\n",
       "    }\n",
       "</style>\n",
       "<table border=\"1\" class=\"dataframe\">\n",
       "  <thead>\n",
       "    <tr style=\"text-align: right;\">\n",
       "      <th></th>\n",
       "      <th>SUBSCRIBER_ID</th>\n",
       "      <th>TARIFF_PLAN_ID</th>\n",
       "      <th>START_DTTM</th>\n",
       "      <th>END_DTTM</th>\n",
       "    </tr>\n",
       "  </thead>\n",
       "  <tbody>\n",
       "    <tr>\n",
       "      <th>8</th>\n",
       "      <td>5</td>\n",
       "      <td>1</td>\n",
       "      <td>2016-02-06 08:07:15</td>\n",
       "      <td>2017-05-08 12:39:59</td>\n",
       "    </tr>\n",
       "    <tr>\n",
       "      <th>9</th>\n",
       "      <td>5</td>\n",
       "      <td>5</td>\n",
       "      <td>2017-05-08 12:40:00</td>\n",
       "      <td>NaT</td>\n",
       "    </tr>\n",
       "  </tbody>\n",
       "</table>\n",
       "</div>"
      ],
      "text/plain": [
       "   SUBSCRIBER_ID TARIFF_PLAN_ID          START_DTTM            END_DTTM\n",
       "8              5              1 2016-02-06 08:07:15 2017-05-08 12:39:59\n",
       "9              5              5 2017-05-08 12:40:00                 NaT"
      ]
     },
     "execution_count": 23,
     "metadata": {},
     "output_type": "execute_result"
    }
   ],
   "source": [
    "tariff_plans_df[tariff_plans_df['SUBSCRIBER_ID'] == 5]"
   ]
  },
  {
   "cell_type": "code",
   "execution_count": 24,
   "metadata": {},
   "outputs": [
    {
     "data": {
      "text/html": [
       "<div>\n",
       "<style scoped>\n",
       "    .dataframe tbody tr th:only-of-type {\n",
       "        vertical-align: middle;\n",
       "    }\n",
       "\n",
       "    .dataframe tbody tr th {\n",
       "        vertical-align: top;\n",
       "    }\n",
       "\n",
       "    .dataframe thead th {\n",
       "        text-align: right;\n",
       "    }\n",
       "</style>\n",
       "<table border=\"1\" class=\"dataframe\">\n",
       "  <thead>\n",
       "    <tr style=\"text-align: right;\">\n",
       "      <th></th>\n",
       "      <th>SUBSCRIBER_ID</th>\n",
       "      <th>START_DT</th>\n",
       "      <th>END_DT</th>\n",
       "      <th>STATUS</th>\n",
       "    </tr>\n",
       "  </thead>\n",
       "  <tbody>\n",
       "    <tr>\n",
       "      <th>2768</th>\n",
       "      <td>5</td>\n",
       "      <td>2017-06-16</td>\n",
       "      <td>2017-06-29</td>\n",
       "      <td>Suspended</td>\n",
       "    </tr>\n",
       "    <tr>\n",
       "      <th>2718</th>\n",
       "      <td>5</td>\n",
       "      <td>2017-07-31</td>\n",
       "      <td>2017-08-14</td>\n",
       "      <td>Suspended</td>\n",
       "    </tr>\n",
       "    <tr>\n",
       "      <th>2961</th>\n",
       "      <td>5</td>\n",
       "      <td>2016-07-25</td>\n",
       "      <td>2016-08-14</td>\n",
       "      <td>Suspended</td>\n",
       "    </tr>\n",
       "    <tr>\n",
       "      <th>2817</th>\n",
       "      <td>5</td>\n",
       "      <td>2017-03-23</td>\n",
       "      <td>2017-04-15</td>\n",
       "      <td>Suspended</td>\n",
       "    </tr>\n",
       "    <tr>\n",
       "      <th>2866</th>\n",
       "      <td>5</td>\n",
       "      <td>2016-11-22</td>\n",
       "      <td>2016-11-28</td>\n",
       "      <td>Suspended</td>\n",
       "    </tr>\n",
       "    <tr>\n",
       "      <th>2914</th>\n",
       "      <td>5</td>\n",
       "      <td>2016-09-19</td>\n",
       "      <td>2016-09-28</td>\n",
       "      <td>Suspended</td>\n",
       "    </tr>\n",
       "    <tr>\n",
       "      <th>1771</th>\n",
       "      <td>8</td>\n",
       "      <td>2017-02-23</td>\n",
       "      <td>2017-03-03</td>\n",
       "      <td>Suspended</td>\n",
       "    </tr>\n",
       "    <tr>\n",
       "      <th>1832</th>\n",
       "      <td>8</td>\n",
       "      <td>2016-09-27</td>\n",
       "      <td>2016-12-05</td>\n",
       "      <td>Suspended</td>\n",
       "    </tr>\n",
       "    <tr>\n",
       "      <th>1893</th>\n",
       "      <td>8</td>\n",
       "      <td>2016-07-25</td>\n",
       "      <td>2016-08-04</td>\n",
       "      <td>Suspended</td>\n",
       "    </tr>\n",
       "    <tr>\n",
       "      <th>1954</th>\n",
       "      <td>8</td>\n",
       "      <td>2017-11-21</td>\n",
       "      <td>2017-11-22</td>\n",
       "      <td>Suspended</td>\n",
       "    </tr>\n",
       "  </tbody>\n",
       "</table>\n",
       "</div>"
      ],
      "text/plain": [
       "      SUBSCRIBER_ID   START_DT     END_DT     STATUS\n",
       "2768              5 2017-06-16 2017-06-29  Suspended\n",
       "2718              5 2017-07-31 2017-08-14  Suspended\n",
       "2961              5 2016-07-25 2016-08-14  Suspended\n",
       "2817              5 2017-03-23 2017-04-15  Suspended\n",
       "2866              5 2016-11-22 2016-11-28  Suspended\n",
       "2914              5 2016-09-19 2016-09-28  Suspended\n",
       "1771              8 2017-02-23 2017-03-03  Suspended\n",
       "1832              8 2016-09-27 2016-12-05  Suspended\n",
       "1893              8 2016-07-25 2016-08-04  Suspended\n",
       "1954              8 2017-11-21 2017-11-22  Suspended"
      ]
     },
     "execution_count": 24,
     "metadata": {},
     "output_type": "execute_result"
    }
   ],
   "source": [
    "suspensions_df.sort_values(by='SUBSCRIBER_ID').head(10)"
   ]
  },
  {
   "cell_type": "code",
   "execution_count": 25,
   "metadata": {},
   "outputs": [
    {
     "data": {
      "text/html": [
       "<div>\n",
       "<style scoped>\n",
       "    .dataframe tbody tr th:only-of-type {\n",
       "        vertical-align: middle;\n",
       "    }\n",
       "\n",
       "    .dataframe tbody tr th {\n",
       "        vertical-align: top;\n",
       "    }\n",
       "\n",
       "    .dataframe thead th {\n",
       "        text-align: right;\n",
       "    }\n",
       "</style>\n",
       "<table border=\"1\" class=\"dataframe\">\n",
       "  <thead>\n",
       "    <tr style=\"text-align: right;\">\n",
       "      <th></th>\n",
       "      <th>SUBSCRIBER_ID</th>\n",
       "      <th>START_DT</th>\n",
       "      <th>END_DT</th>\n",
       "      <th>STATUS</th>\n",
       "    </tr>\n",
       "  </thead>\n",
       "  <tbody>\n",
       "    <tr>\n",
       "      <th>2961</th>\n",
       "      <td>5</td>\n",
       "      <td>2016-07-25</td>\n",
       "      <td>2016-08-14</td>\n",
       "      <td>Suspended</td>\n",
       "    </tr>\n",
       "    <tr>\n",
       "      <th>2914</th>\n",
       "      <td>5</td>\n",
       "      <td>2016-09-19</td>\n",
       "      <td>2016-09-28</td>\n",
       "      <td>Suspended</td>\n",
       "    </tr>\n",
       "    <tr>\n",
       "      <th>2866</th>\n",
       "      <td>5</td>\n",
       "      <td>2016-11-22</td>\n",
       "      <td>2016-11-28</td>\n",
       "      <td>Suspended</td>\n",
       "    </tr>\n",
       "    <tr>\n",
       "      <th>2817</th>\n",
       "      <td>5</td>\n",
       "      <td>2017-03-23</td>\n",
       "      <td>2017-04-15</td>\n",
       "      <td>Suspended</td>\n",
       "    </tr>\n",
       "    <tr>\n",
       "      <th>2768</th>\n",
       "      <td>5</td>\n",
       "      <td>2017-06-16</td>\n",
       "      <td>2017-06-29</td>\n",
       "      <td>Suspended</td>\n",
       "    </tr>\n",
       "    <tr>\n",
       "      <th>2718</th>\n",
       "      <td>5</td>\n",
       "      <td>2017-07-31</td>\n",
       "      <td>2017-08-14</td>\n",
       "      <td>Suspended</td>\n",
       "    </tr>\n",
       "  </tbody>\n",
       "</table>\n",
       "</div>"
      ],
      "text/plain": [
       "      SUBSCRIBER_ID   START_DT     END_DT     STATUS\n",
       "2961              5 2016-07-25 2016-08-14  Suspended\n",
       "2914              5 2016-09-19 2016-09-28  Suspended\n",
       "2866              5 2016-11-22 2016-11-28  Suspended\n",
       "2817              5 2017-03-23 2017-04-15  Suspended\n",
       "2768              5 2017-06-16 2017-06-29  Suspended\n",
       "2718              5 2017-07-31 2017-08-14  Suspended"
      ]
     },
     "execution_count": 25,
     "metadata": {},
     "output_type": "execute_result"
    }
   ],
   "source": [
    "suspensions_df[suspensions_df['SUBSCRIBER_ID'] == 5].sort_values(by='START_DT')"
   ]
  },
  {
   "cell_type": "code",
   "execution_count": null,
   "metadata": {},
   "outputs": [],
   "source": [
    "# Creating basis for future statistics of suspensions change rate\n",
    "# It is not needed to count subscribers that have never been in block\n",
    "suspensions_change_df = tariff_plans_df[tariff_plans_df['SUBSCRIBER_ID'].isin(suspensions_df['SUBSCRIBER_ID'])].copy()\n",
    "suspensions_change_df['PREV_PERIOD_SUSPENSIONS'] = None\n",
    "suspensions_change_df['POST_PERIOD_SUSPENSIONS'] = None\n",
    "suspensions_change_df['MIGRATION_TARIFF'] = None\n",
    "suspensions_change_df = suspensions_change_df.sort_values(by=['SUBSCRIBER_ID', 'START_DTTM'])"
   ]
  },
  {
   "cell_type": "code",
   "execution_count": null,
   "metadata": {},
   "outputs": [],
   "source": [
    "# Creating pre- and post- tariff migration total amount of suspensions of 3-month period for each of subscribers\n",
    "for ind, row in suspensions_change_df.iterrows():\n",
    "    sub_id, end_date = row['SUBSCRIBER_ID'], row['END_DTTM']\n",
    "    if end_date is pd.NaT:\n",
    "        continue\n",
    "\n",
    "    post_period_start = end_date.replace(day=1).normalize() + relativedelta(months=1)\n",
    "    post_period_end = end_date.replace(day=1).normalize() + relativedelta(months=3)    \n",
    "    post_period_mask = ((suspensions_df['SUBSCRIBER_ID'] == sub_id) & \n",
    "                        (suspensions_df['START_DT'] >= post_period_start) & \n",
    "                        (suspensions_df['START_DT'] <= post_period_end))\n",
    "    post_charge = len(suspensions_df[post_period_mask])\n",
    "\n",
    "    pre_period_end = end_date.replace(day=1).normalize() - relativedelta(months=1)\n",
    "    pre_period_start = end_date.replace(day=1).normalize() - relativedelta(months=3)\n",
    "    pre_period_mask = ((suspensions_df['SUBSCRIBER_ID'] == sub_id) & \n",
    "                       (suspensions_df['START_DT'] >= pre_period_start) & \n",
    "                       (suspensions_df['START_DT'] <= pre_period_end))\n",
    "    pre_charge = len(suspensions_df[pre_period_mask])\n",
    "    \n",
    "    suspensions_change_df.loc[ind, 'PREV_PERIOD_SUSPENSIONS'] = pre_charge\n",
    "    suspensions_change_df.loc[ind, 'POST_PERIOD_SUSPENSIONS'] = post_charge\n",
    "\n",
    "    \n",
    "    migration_tariff_mask = (suspensions_change_df['SUBSCRIBER_ID'] == sub_id) & (suspensions_change_df['START_DTTM'] >= end_date)\n",
    "    migration_tariff = suspensions_change_df[migration_tariff_mask]\n",
    "    if len(migration_tariff) == 0:            \n",
    "        suspensions_change_df.loc[ind, 'MIGRATION_TARIFF'] = -1\n",
    "    else:\n",
    "        suspensions_change_df.loc[ind, 'MIGRATION_TARIFF'] = migration_tariff.iloc[0]['TARIFF_PLAN_ID']   "
   ]
  },
  {
   "cell_type": "code",
   "execution_count": 28,
   "metadata": {},
   "outputs": [
    {
     "data": {
      "text/html": [
       "<div>\n",
       "<style scoped>\n",
       "    .dataframe tbody tr th:only-of-type {\n",
       "        vertical-align: middle;\n",
       "    }\n",
       "\n",
       "    .dataframe tbody tr th {\n",
       "        vertical-align: top;\n",
       "    }\n",
       "\n",
       "    .dataframe thead th {\n",
       "        text-align: right;\n",
       "    }\n",
       "</style>\n",
       "<table border=\"1\" class=\"dataframe\">\n",
       "  <thead>\n",
       "    <tr style=\"text-align: right;\">\n",
       "      <th></th>\n",
       "      <th>SUBSCRIBER_ID</th>\n",
       "      <th>TARIFF_PLAN_ID</th>\n",
       "      <th>START_DTTM</th>\n",
       "      <th>END_DTTM</th>\n",
       "      <th>PREV_PERIOD_SUSPENSIONS</th>\n",
       "      <th>POST_PERIOD_SUSPENSIONS</th>\n",
       "      <th>MIGRATION_TARIFF</th>\n",
       "    </tr>\n",
       "  </thead>\n",
       "  <tbody>\n",
       "    <tr>\n",
       "      <th>8</th>\n",
       "      <td>5</td>\n",
       "      <td>1</td>\n",
       "      <td>2016-02-06 08:07:15</td>\n",
       "      <td>2017-05-08 12:39:59</td>\n",
       "      <td>1</td>\n",
       "      <td>2</td>\n",
       "      <td>5</td>\n",
       "    </tr>\n",
       "    <tr>\n",
       "      <th>9</th>\n",
       "      <td>5</td>\n",
       "      <td>5</td>\n",
       "      <td>2017-05-08 12:40:00</td>\n",
       "      <td>NaT</td>\n",
       "      <td>None</td>\n",
       "      <td>None</td>\n",
       "      <td>None</td>\n",
       "    </tr>\n",
       "    <tr>\n",
       "      <th>14</th>\n",
       "      <td>8</td>\n",
       "      <td>3</td>\n",
       "      <td>2016-01-15 18:43:18</td>\n",
       "      <td>2017-02-01 14:22:22</td>\n",
       "      <td>0</td>\n",
       "      <td>1</td>\n",
       "      <td>4</td>\n",
       "    </tr>\n",
       "    <tr>\n",
       "      <th>15</th>\n",
       "      <td>8</td>\n",
       "      <td>4</td>\n",
       "      <td>2017-02-01 14:22:23</td>\n",
       "      <td>NaT</td>\n",
       "      <td>None</td>\n",
       "      <td>None</td>\n",
       "      <td>None</td>\n",
       "    </tr>\n",
       "    <tr>\n",
       "      <th>16</th>\n",
       "      <td>9</td>\n",
       "      <td>3</td>\n",
       "      <td>2010-05-26 11:42:19</td>\n",
       "      <td>2017-02-11 11:19:01</td>\n",
       "      <td>1</td>\n",
       "      <td>1</td>\n",
       "      <td>4</td>\n",
       "    </tr>\n",
       "  </tbody>\n",
       "</table>\n",
       "</div>"
      ],
      "text/plain": [
       "    SUBSCRIBER_ID TARIFF_PLAN_ID          START_DTTM            END_DTTM  \\\n",
       "8               5              1 2016-02-06 08:07:15 2017-05-08 12:39:59   \n",
       "9               5              5 2017-05-08 12:40:00                 NaT   \n",
       "14              8              3 2016-01-15 18:43:18 2017-02-01 14:22:22   \n",
       "15              8              4 2017-02-01 14:22:23                 NaT   \n",
       "16              9              3 2010-05-26 11:42:19 2017-02-11 11:19:01   \n",
       "\n",
       "   PREV_PERIOD_SUSPENSIONS POST_PERIOD_SUSPENSIONS MIGRATION_TARIFF  \n",
       "8                        1                       2                5  \n",
       "9                     None                    None             None  \n",
       "14                       0                       1                4  \n",
       "15                    None                    None             None  \n",
       "16                       1                       1                4  "
      ]
     },
     "execution_count": 28,
     "metadata": {},
     "output_type": "execute_result"
    }
   ],
   "source": [
    "suspensions_change_df.head()"
   ]
  },
  {
   "cell_type": "code",
   "execution_count": 29,
   "metadata": {},
   "outputs": [],
   "source": [
    "suspensions_change_df.dropna(subset=['END_DTTM'], inplace=True)\n",
    "tariff_drop_ids = suspensions_change_df[suspensions_change_df['MIGRATION_TARIFF'] == -1].index\n",
    "suspensions_change_df.drop(tariff_drop_ids, axis=0, inplace=True)\n",
    "suspensions_change_df['MIGRATION_TARIFF'] = suspensions_change_df['MIGRATION_TARIFF'].astype('int16').astype('category')\n",
    "suspensions_change_df['PREV_PERIOD_SUSPENSIONS'] = suspensions_change_df['PREV_PERIOD_SUSPENSIONS'].astype('int16')\n",
    "suspensions_change_df['POST_PERIOD_SUSPENSIONS'] = suspensions_change_df['POST_PERIOD_SUSPENSIONS'].astype('int16')"
   ]
  },
  {
   "cell_type": "code",
   "execution_count": 30,
   "metadata": {},
   "outputs": [
    {
     "name": "stdout",
     "output_type": "stream",
     "text": [
      "<class 'pandas.core.frame.DataFrame'>\n",
      "Index: 1371 entries, 8 to 12340\n",
      "Data columns (total 7 columns):\n",
      " #   Column                   Non-Null Count  Dtype         \n",
      "---  ------                   --------------  -----         \n",
      " 0   SUBSCRIBER_ID            1371 non-null   int64         \n",
      " 1   TARIFF_PLAN_ID           1371 non-null   category      \n",
      " 2   START_DTTM               1371 non-null   datetime64[ns]\n",
      " 3   END_DTTM                 1371 non-null   datetime64[ns]\n",
      " 4   PREV_PERIOD_SUSPENSIONS  1371 non-null   int16         \n",
      " 5   POST_PERIOD_SUSPENSIONS  1371 non-null   int16         \n",
      " 6   MIGRATION_TARIFF         1371 non-null   category      \n",
      "dtypes: category(2), datetime64[ns](2), int16(2), int64(1)\n",
      "memory usage: 51.2 KB\n"
     ]
    }
   ],
   "source": [
    "suspensions_change_df.info()"
   ]
  },
  {
   "cell_type": "code",
   "execution_count": 31,
   "metadata": {},
   "outputs": [
    {
     "data": {
      "text/html": [
       "<div>\n",
       "<style scoped>\n",
       "    .dataframe tbody tr th:only-of-type {\n",
       "        vertical-align: middle;\n",
       "    }\n",
       "\n",
       "    .dataframe tbody tr th {\n",
       "        vertical-align: top;\n",
       "    }\n",
       "\n",
       "    .dataframe thead th {\n",
       "        text-align: right;\n",
       "    }\n",
       "</style>\n",
       "<table border=\"1\" class=\"dataframe\">\n",
       "  <thead>\n",
       "    <tr style=\"text-align: right;\">\n",
       "      <th></th>\n",
       "      <th>SUBSCRIBER_ID</th>\n",
       "      <th>TARIFF_PLAN_ID</th>\n",
       "      <th>START_DTTM</th>\n",
       "      <th>END_DTTM</th>\n",
       "      <th>PREV_PERIOD_SUSPENSIONS</th>\n",
       "      <th>POST_PERIOD_SUSPENSIONS</th>\n",
       "      <th>MIGRATION_TARIFF</th>\n",
       "    </tr>\n",
       "  </thead>\n",
       "  <tbody>\n",
       "    <tr>\n",
       "      <th>8</th>\n",
       "      <td>5</td>\n",
       "      <td>1</td>\n",
       "      <td>2016-02-06 08:07:15</td>\n",
       "      <td>2017-05-08 12:39:59</td>\n",
       "      <td>1</td>\n",
       "      <td>2</td>\n",
       "      <td>5</td>\n",
       "    </tr>\n",
       "    <tr>\n",
       "      <th>14</th>\n",
       "      <td>8</td>\n",
       "      <td>3</td>\n",
       "      <td>2016-01-15 18:43:18</td>\n",
       "      <td>2017-02-01 14:22:22</td>\n",
       "      <td>0</td>\n",
       "      <td>1</td>\n",
       "      <td>4</td>\n",
       "    </tr>\n",
       "    <tr>\n",
       "      <th>16</th>\n",
       "      <td>9</td>\n",
       "      <td>3</td>\n",
       "      <td>2010-05-26 11:42:19</td>\n",
       "      <td>2017-02-11 11:19:01</td>\n",
       "      <td>1</td>\n",
       "      <td>1</td>\n",
       "      <td>4</td>\n",
       "    </tr>\n",
       "    <tr>\n",
       "      <th>26</th>\n",
       "      <td>14</td>\n",
       "      <td>3</td>\n",
       "      <td>2015-07-22 16:35:46</td>\n",
       "      <td>2017-04-04 22:56:51</td>\n",
       "      <td>0</td>\n",
       "      <td>0</td>\n",
       "      <td>5</td>\n",
       "    </tr>\n",
       "    <tr>\n",
       "      <th>34</th>\n",
       "      <td>18</td>\n",
       "      <td>3</td>\n",
       "      <td>2010-06-01 14:48:33</td>\n",
       "      <td>2017-04-08 07:54:56</td>\n",
       "      <td>0</td>\n",
       "      <td>0</td>\n",
       "      <td>5</td>\n",
       "    </tr>\n",
       "    <tr>\n",
       "      <th>38</th>\n",
       "      <td>20</td>\n",
       "      <td>2</td>\n",
       "      <td>2010-06-07 15:47:17</td>\n",
       "      <td>2017-02-23 10:50:41</td>\n",
       "      <td>0</td>\n",
       "      <td>0</td>\n",
       "      <td>4</td>\n",
       "    </tr>\n",
       "    <tr>\n",
       "      <th>51</th>\n",
       "      <td>26</td>\n",
       "      <td>3</td>\n",
       "      <td>2015-04-16 12:19:17</td>\n",
       "      <td>2017-03-09 12:11:04</td>\n",
       "      <td>0</td>\n",
       "      <td>0</td>\n",
       "      <td>5</td>\n",
       "    </tr>\n",
       "    <tr>\n",
       "      <th>57</th>\n",
       "      <td>29</td>\n",
       "      <td>1</td>\n",
       "      <td>2010-06-11 17:01:27</td>\n",
       "      <td>2017-05-07 17:05:19</td>\n",
       "      <td>1</td>\n",
       "      <td>0</td>\n",
       "      <td>5</td>\n",
       "    </tr>\n",
       "    <tr>\n",
       "      <th>61</th>\n",
       "      <td>31</td>\n",
       "      <td>5</td>\n",
       "      <td>2016-12-22 23:24:09</td>\n",
       "      <td>2017-01-12 14:20:14</td>\n",
       "      <td>0</td>\n",
       "      <td>0</td>\n",
       "      <td>4</td>\n",
       "    </tr>\n",
       "    <tr>\n",
       "      <th>63</th>\n",
       "      <td>32</td>\n",
       "      <td>3</td>\n",
       "      <td>2010-06-12 18:37:07</td>\n",
       "      <td>2017-06-25 19:11:30</td>\n",
       "      <td>0</td>\n",
       "      <td>0</td>\n",
       "      <td>5</td>\n",
       "    </tr>\n",
       "  </tbody>\n",
       "</table>\n",
       "</div>"
      ],
      "text/plain": [
       "    SUBSCRIBER_ID TARIFF_PLAN_ID          START_DTTM            END_DTTM  \\\n",
       "8               5              1 2016-02-06 08:07:15 2017-05-08 12:39:59   \n",
       "14              8              3 2016-01-15 18:43:18 2017-02-01 14:22:22   \n",
       "16              9              3 2010-05-26 11:42:19 2017-02-11 11:19:01   \n",
       "26             14              3 2015-07-22 16:35:46 2017-04-04 22:56:51   \n",
       "34             18              3 2010-06-01 14:48:33 2017-04-08 07:54:56   \n",
       "38             20              2 2010-06-07 15:47:17 2017-02-23 10:50:41   \n",
       "51             26              3 2015-04-16 12:19:17 2017-03-09 12:11:04   \n",
       "57             29              1 2010-06-11 17:01:27 2017-05-07 17:05:19   \n",
       "61             31              5 2016-12-22 23:24:09 2017-01-12 14:20:14   \n",
       "63             32              3 2010-06-12 18:37:07 2017-06-25 19:11:30   \n",
       "\n",
       "    PREV_PERIOD_SUSPENSIONS  POST_PERIOD_SUSPENSIONS MIGRATION_TARIFF  \n",
       "8                         1                        2                5  \n",
       "14                        0                        1                4  \n",
       "16                        1                        1                4  \n",
       "26                        0                        0                5  \n",
       "34                        0                        0                5  \n",
       "38                        0                        0                4  \n",
       "51                        0                        0                5  \n",
       "57                        1                        0                5  \n",
       "61                        0                        0                4  \n",
       "63                        0                        0                5  "
      ]
     },
     "execution_count": 31,
     "metadata": {},
     "output_type": "execute_result"
    }
   ],
   "source": [
    "suspensions_change_df.head(10)"
   ]
  },
  {
   "cell_type": "code",
   "execution_count": null,
   "metadata": {},
   "outputs": [
    {
     "name": "stderr",
     "output_type": "stream",
     "text": [
      "C:\\Users\\-PC-\\AppData\\Local\\Temp\\ipykernel_4368\\2318498708.py:1: FutureWarning:\n",
      "\n",
      "The default of observed=False is deprecated and will be changed to True in a future version of pandas. Pass observed=False to retain current behavior or observed=True to adopt the future default and silence this warning.\n",
      "\n"
     ]
    },
    {
     "data": {
      "text/html": [
       "<div>\n",
       "<style scoped>\n",
       "    .dataframe tbody tr th:only-of-type {\n",
       "        vertical-align: middle;\n",
       "    }\n",
       "\n",
       "    .dataframe tbody tr th {\n",
       "        vertical-align: top;\n",
       "    }\n",
       "\n",
       "    .dataframe thead th {\n",
       "        text-align: right;\n",
       "    }\n",
       "</style>\n",
       "<table border=\"1\" class=\"dataframe\">\n",
       "  <thead>\n",
       "    <tr style=\"text-align: right;\">\n",
       "      <th></th>\n",
       "      <th>TARIFF_PLAN_ID</th>\n",
       "      <th>MIGRATION_TARIFF</th>\n",
       "      <th>PREV_PERIOD_SUM</th>\n",
       "      <th>POST_PERIOD_SUM</th>\n",
       "      <th>DELTA_SUSPENSIONS</th>\n",
       "    </tr>\n",
       "  </thead>\n",
       "  <tbody>\n",
       "    <tr>\n",
       "      <th>1</th>\n",
       "      <td>1</td>\n",
       "      <td>2</td>\n",
       "      <td>0</td>\n",
       "      <td>0</td>\n",
       "      <td>0</td>\n",
       "    </tr>\n",
       "    <tr>\n",
       "      <th>2</th>\n",
       "      <td>1</td>\n",
       "      <td>3</td>\n",
       "      <td>2</td>\n",
       "      <td>1</td>\n",
       "      <td>-1</td>\n",
       "    </tr>\n",
       "    <tr>\n",
       "      <th>3</th>\n",
       "      <td>1</td>\n",
       "      <td>4</td>\n",
       "      <td>42</td>\n",
       "      <td>33</td>\n",
       "      <td>-9</td>\n",
       "    </tr>\n",
       "    <tr>\n",
       "      <th>4</th>\n",
       "      <td>1</td>\n",
       "      <td>5</td>\n",
       "      <td>111</td>\n",
       "      <td>92</td>\n",
       "      <td>-19</td>\n",
       "    </tr>\n",
       "    <tr>\n",
       "      <th>5</th>\n",
       "      <td>2</td>\n",
       "      <td>1</td>\n",
       "      <td>0</td>\n",
       "      <td>3</td>\n",
       "      <td>3</td>\n",
       "    </tr>\n",
       "    <tr>\n",
       "      <th>7</th>\n",
       "      <td>2</td>\n",
       "      <td>3</td>\n",
       "      <td>0</td>\n",
       "      <td>1</td>\n",
       "      <td>1</td>\n",
       "    </tr>\n",
       "    <tr>\n",
       "      <th>8</th>\n",
       "      <td>2</td>\n",
       "      <td>4</td>\n",
       "      <td>3</td>\n",
       "      <td>24</td>\n",
       "      <td>21</td>\n",
       "    </tr>\n",
       "    <tr>\n",
       "      <th>9</th>\n",
       "      <td>2</td>\n",
       "      <td>5</td>\n",
       "      <td>4</td>\n",
       "      <td>19</td>\n",
       "      <td>15</td>\n",
       "    </tr>\n",
       "    <tr>\n",
       "      <th>10</th>\n",
       "      <td>3</td>\n",
       "      <td>1</td>\n",
       "      <td>3</td>\n",
       "      <td>1</td>\n",
       "      <td>-2</td>\n",
       "    </tr>\n",
       "    <tr>\n",
       "      <th>11</th>\n",
       "      <td>3</td>\n",
       "      <td>2</td>\n",
       "      <td>7</td>\n",
       "      <td>1</td>\n",
       "      <td>-6</td>\n",
       "    </tr>\n",
       "    <tr>\n",
       "      <th>13</th>\n",
       "      <td>3</td>\n",
       "      <td>4</td>\n",
       "      <td>76</td>\n",
       "      <td>55</td>\n",
       "      <td>-21</td>\n",
       "    </tr>\n",
       "    <tr>\n",
       "      <th>14</th>\n",
       "      <td>3</td>\n",
       "      <td>5</td>\n",
       "      <td>181</td>\n",
       "      <td>125</td>\n",
       "      <td>-56</td>\n",
       "    </tr>\n",
       "    <tr>\n",
       "      <th>15</th>\n",
       "      <td>4</td>\n",
       "      <td>1</td>\n",
       "      <td>2</td>\n",
       "      <td>7</td>\n",
       "      <td>5</td>\n",
       "    </tr>\n",
       "    <tr>\n",
       "      <th>16</th>\n",
       "      <td>4</td>\n",
       "      <td>2</td>\n",
       "      <td>2</td>\n",
       "      <td>2</td>\n",
       "      <td>0</td>\n",
       "    </tr>\n",
       "    <tr>\n",
       "      <th>17</th>\n",
       "      <td>4</td>\n",
       "      <td>3</td>\n",
       "      <td>15</td>\n",
       "      <td>14</td>\n",
       "      <td>-1</td>\n",
       "    </tr>\n",
       "    <tr>\n",
       "      <th>19</th>\n",
       "      <td>4</td>\n",
       "      <td>5</td>\n",
       "      <td>97</td>\n",
       "      <td>80</td>\n",
       "      <td>-17</td>\n",
       "    </tr>\n",
       "    <tr>\n",
       "      <th>20</th>\n",
       "      <td>5</td>\n",
       "      <td>1</td>\n",
       "      <td>1</td>\n",
       "      <td>7</td>\n",
       "      <td>6</td>\n",
       "    </tr>\n",
       "    <tr>\n",
       "      <th>21</th>\n",
       "      <td>5</td>\n",
       "      <td>2</td>\n",
       "      <td>0</td>\n",
       "      <td>0</td>\n",
       "      <td>0</td>\n",
       "    </tr>\n",
       "    <tr>\n",
       "      <th>22</th>\n",
       "      <td>5</td>\n",
       "      <td>3</td>\n",
       "      <td>11</td>\n",
       "      <td>17</td>\n",
       "      <td>6</td>\n",
       "    </tr>\n",
       "    <tr>\n",
       "      <th>23</th>\n",
       "      <td>5</td>\n",
       "      <td>4</td>\n",
       "      <td>4</td>\n",
       "      <td>6</td>\n",
       "      <td>2</td>\n",
       "    </tr>\n",
       "  </tbody>\n",
       "</table>\n",
       "</div>"
      ],
      "text/plain": [
       "   TARIFF_PLAN_ID MIGRATION_TARIFF  PREV_PERIOD_SUM  POST_PERIOD_SUM  \\\n",
       "1               1                2                0                0   \n",
       "2               1                3                2                1   \n",
       "3               1                4               42               33   \n",
       "4               1                5              111               92   \n",
       "5               2                1                0                3   \n",
       "7               2                3                0                1   \n",
       "8               2                4                3               24   \n",
       "9               2                5                4               19   \n",
       "10              3                1                3                1   \n",
       "11              3                2                7                1   \n",
       "13              3                4               76               55   \n",
       "14              3                5              181              125   \n",
       "15              4                1                2                7   \n",
       "16              4                2                2                2   \n",
       "17              4                3               15               14   \n",
       "19              4                5               97               80   \n",
       "20              5                1                1                7   \n",
       "21              5                2                0                0   \n",
       "22              5                3               11               17   \n",
       "23              5                4                4                6   \n",
       "\n",
       "    DELTA_SUSPENSIONS  \n",
       "1                   0  \n",
       "2                  -1  \n",
       "3                  -9  \n",
       "4                 -19  \n",
       "5                   3  \n",
       "7                   1  \n",
       "8                  21  \n",
       "9                  15  \n",
       "10                 -2  \n",
       "11                 -6  \n",
       "13                -21  \n",
       "14                -56  \n",
       "15                  5  \n",
       "16                  0  \n",
       "17                 -1  \n",
       "19                -17  \n",
       "20                  6  \n",
       "21                  0  \n",
       "22                  6  \n",
       "23                  2  "
      ]
     },
     "execution_count": 32,
     "metadata": {},
     "output_type": "execute_result"
    }
   ],
   "source": [
    "# Creating pre- and post- tariff migration total amount of suspensions of 3-month period aggragating by migration flows\n",
    "suspensions_change_df_agg = suspensions_change_df.groupby(['TARIFF_PLAN_ID', 'MIGRATION_TARIFF']).agg(\n",
    "    PREV_PERIOD_SUM=('PREV_PERIOD_SUSPENSIONS', 'sum'),\n",
    "    POST_PERIOD_SUM=('POST_PERIOD_SUSPENSIONS', 'sum')\n",
    ")\n",
    "suspensions_change_df_agg.reset_index(inplace=True)\n",
    "same_tariff_drop_mask = suspensions_change_df_agg['TARIFF_PLAN_ID'] == suspensions_change_df_agg['MIGRATION_TARIFF']\n",
    "same_tariff_drop_ids = suspensions_change_df_agg[same_tariff_drop_mask].index\n",
    "suspensions_change_df_agg.drop(same_tariff_drop_ids, axis=0, inplace = True)\n",
    "suspensions_change_df_agg['DELTA_SUSPENSIONS'] = suspensions_change_df_agg['POST_PERIOD_SUM'] - suspensions_change_df_agg['PREV_PERIOD_SUM']\n",
    "suspensions_change_df_agg"
   ]
  },
  {
   "cell_type": "code",
   "execution_count": null,
   "metadata": {},
   "outputs": [
    {
     "data": {
      "application/vnd.plotly.v1+json": {
       "config": {
        "plotlyServerURL": "https://plot.ly"
       },
       "data": [
        {
         "alignmentgroup": "True",
         "hovertemplate": "Delta of Total Suspensions After Migration=%{marker.color}<br>Migration Direction=%{y}<extra></extra>",
         "legendgroup": "",
         "marker": {
          "color": [
           0,
           -1,
           -9,
           -19,
           3,
           1,
           21,
           15,
           -2,
           -6,
           -21,
           -56,
           5,
           0,
           -1,
           -17,
           6,
           0,
           6,
           2
          ],
          "coloraxis": "coloraxis",
          "pattern": {
           "shape": ""
          }
         },
         "name": "",
         "offsetgroup": "",
         "orientation": "h",
         "showlegend": false,
         "textposition": "auto",
         "type": "bar",
         "x": [
          0,
          -1,
          -9,
          -19,
          3,
          1,
          21,
          15,
          -2,
          -6,
          -21,
          -56,
          5,
          0,
          -1,
          -17,
          6,
          0,
          6,
          2
         ],
         "xaxis": "x",
         "y": [
          "Tariff 1 → Tariff 2",
          "Tariff 1 → Tariff 3",
          "Tariff 1 → Tariff 4",
          "Tariff 1 → Tariff 5",
          "Tariff 2 → Tariff 1",
          "Tariff 2 → Tariff 3",
          "Tariff 2 → Tariff 4",
          "Tariff 2 → Tariff 5",
          "Tariff 3 → Tariff 1",
          "Tariff 3 → Tariff 2",
          "Tariff 3 → Tariff 4",
          "Tariff 3 → Tariff 5",
          "Tariff 4 → Tariff 1",
          "Tariff 4 → Tariff 2",
          "Tariff 4 → Tariff 3",
          "Tariff 4 → Tariff 5",
          "Tariff 5 → Tariff 1",
          "Tariff 5 → Tariff 2",
          "Tariff 5 → Tariff 3",
          "Tariff 5 → Tariff 4"
         ],
         "yaxis": "y"
        }
       ],
       "layout": {
        "barmode": "relative",
        "coloraxis": {
         "colorbar": {
          "title": {
           "text": "Delta of Total Suspensions After Migration"
          }
         },
         "colorscale": [
          [
           0,
           "green"
          ],
          [
           0.5,
           "yellow"
          ],
          [
           1,
           "red"
          ]
         ]
        },
        "font": {
         "size": 20
        },
        "height": 1080,
        "legend": {
         "tracegroupgap": 0
        },
        "template": {
         "data": {
          "bar": [
           {
            "error_x": {
             "color": "#2a3f5f"
            },
            "error_y": {
             "color": "#2a3f5f"
            },
            "marker": {
             "line": {
              "color": "#E5ECF6",
              "width": 0.5
             },
             "pattern": {
              "fillmode": "overlay",
              "size": 10,
              "solidity": 0.2
             }
            },
            "type": "bar"
           }
          ],
          "barpolar": [
           {
            "marker": {
             "line": {
              "color": "#E5ECF6",
              "width": 0.5
             },
             "pattern": {
              "fillmode": "overlay",
              "size": 10,
              "solidity": 0.2
             }
            },
            "type": "barpolar"
           }
          ],
          "carpet": [
           {
            "aaxis": {
             "endlinecolor": "#2a3f5f",
             "gridcolor": "white",
             "linecolor": "white",
             "minorgridcolor": "white",
             "startlinecolor": "#2a3f5f"
            },
            "baxis": {
             "endlinecolor": "#2a3f5f",
             "gridcolor": "white",
             "linecolor": "white",
             "minorgridcolor": "white",
             "startlinecolor": "#2a3f5f"
            },
            "type": "carpet"
           }
          ],
          "choropleth": [
           {
            "colorbar": {
             "outlinewidth": 0,
             "ticks": ""
            },
            "type": "choropleth"
           }
          ],
          "contour": [
           {
            "colorbar": {
             "outlinewidth": 0,
             "ticks": ""
            },
            "colorscale": [
             [
              0,
              "#0d0887"
             ],
             [
              0.1111111111111111,
              "#46039f"
             ],
             [
              0.2222222222222222,
              "#7201a8"
             ],
             [
              0.3333333333333333,
              "#9c179e"
             ],
             [
              0.4444444444444444,
              "#bd3786"
             ],
             [
              0.5555555555555556,
              "#d8576b"
             ],
             [
              0.6666666666666666,
              "#ed7953"
             ],
             [
              0.7777777777777778,
              "#fb9f3a"
             ],
             [
              0.8888888888888888,
              "#fdca26"
             ],
             [
              1,
              "#f0f921"
             ]
            ],
            "type": "contour"
           }
          ],
          "contourcarpet": [
           {
            "colorbar": {
             "outlinewidth": 0,
             "ticks": ""
            },
            "type": "contourcarpet"
           }
          ],
          "heatmap": [
           {
            "colorbar": {
             "outlinewidth": 0,
             "ticks": ""
            },
            "colorscale": [
             [
              0,
              "#0d0887"
             ],
             [
              0.1111111111111111,
              "#46039f"
             ],
             [
              0.2222222222222222,
              "#7201a8"
             ],
             [
              0.3333333333333333,
              "#9c179e"
             ],
             [
              0.4444444444444444,
              "#bd3786"
             ],
             [
              0.5555555555555556,
              "#d8576b"
             ],
             [
              0.6666666666666666,
              "#ed7953"
             ],
             [
              0.7777777777777778,
              "#fb9f3a"
             ],
             [
              0.8888888888888888,
              "#fdca26"
             ],
             [
              1,
              "#f0f921"
             ]
            ],
            "type": "heatmap"
           }
          ],
          "heatmapgl": [
           {
            "colorbar": {
             "outlinewidth": 0,
             "ticks": ""
            },
            "colorscale": [
             [
              0,
              "#0d0887"
             ],
             [
              0.1111111111111111,
              "#46039f"
             ],
             [
              0.2222222222222222,
              "#7201a8"
             ],
             [
              0.3333333333333333,
              "#9c179e"
             ],
             [
              0.4444444444444444,
              "#bd3786"
             ],
             [
              0.5555555555555556,
              "#d8576b"
             ],
             [
              0.6666666666666666,
              "#ed7953"
             ],
             [
              0.7777777777777778,
              "#fb9f3a"
             ],
             [
              0.8888888888888888,
              "#fdca26"
             ],
             [
              1,
              "#f0f921"
             ]
            ],
            "type": "heatmapgl"
           }
          ],
          "histogram": [
           {
            "marker": {
             "pattern": {
              "fillmode": "overlay",
              "size": 10,
              "solidity": 0.2
             }
            },
            "type": "histogram"
           }
          ],
          "histogram2d": [
           {
            "colorbar": {
             "outlinewidth": 0,
             "ticks": ""
            },
            "colorscale": [
             [
              0,
              "#0d0887"
             ],
             [
              0.1111111111111111,
              "#46039f"
             ],
             [
              0.2222222222222222,
              "#7201a8"
             ],
             [
              0.3333333333333333,
              "#9c179e"
             ],
             [
              0.4444444444444444,
              "#bd3786"
             ],
             [
              0.5555555555555556,
              "#d8576b"
             ],
             [
              0.6666666666666666,
              "#ed7953"
             ],
             [
              0.7777777777777778,
              "#fb9f3a"
             ],
             [
              0.8888888888888888,
              "#fdca26"
             ],
             [
              1,
              "#f0f921"
             ]
            ],
            "type": "histogram2d"
           }
          ],
          "histogram2dcontour": [
           {
            "colorbar": {
             "outlinewidth": 0,
             "ticks": ""
            },
            "colorscale": [
             [
              0,
              "#0d0887"
             ],
             [
              0.1111111111111111,
              "#46039f"
             ],
             [
              0.2222222222222222,
              "#7201a8"
             ],
             [
              0.3333333333333333,
              "#9c179e"
             ],
             [
              0.4444444444444444,
              "#bd3786"
             ],
             [
              0.5555555555555556,
              "#d8576b"
             ],
             [
              0.6666666666666666,
              "#ed7953"
             ],
             [
              0.7777777777777778,
              "#fb9f3a"
             ],
             [
              0.8888888888888888,
              "#fdca26"
             ],
             [
              1,
              "#f0f921"
             ]
            ],
            "type": "histogram2dcontour"
           }
          ],
          "mesh3d": [
           {
            "colorbar": {
             "outlinewidth": 0,
             "ticks": ""
            },
            "type": "mesh3d"
           }
          ],
          "parcoords": [
           {
            "line": {
             "colorbar": {
              "outlinewidth": 0,
              "ticks": ""
             }
            },
            "type": "parcoords"
           }
          ],
          "pie": [
           {
            "automargin": true,
            "type": "pie"
           }
          ],
          "scatter": [
           {
            "fillpattern": {
             "fillmode": "overlay",
             "size": 10,
             "solidity": 0.2
            },
            "type": "scatter"
           }
          ],
          "scatter3d": [
           {
            "line": {
             "colorbar": {
              "outlinewidth": 0,
              "ticks": ""
             }
            },
            "marker": {
             "colorbar": {
              "outlinewidth": 0,
              "ticks": ""
             }
            },
            "type": "scatter3d"
           }
          ],
          "scattercarpet": [
           {
            "marker": {
             "colorbar": {
              "outlinewidth": 0,
              "ticks": ""
             }
            },
            "type": "scattercarpet"
           }
          ],
          "scattergeo": [
           {
            "marker": {
             "colorbar": {
              "outlinewidth": 0,
              "ticks": ""
             }
            },
            "type": "scattergeo"
           }
          ],
          "scattergl": [
           {
            "marker": {
             "colorbar": {
              "outlinewidth": 0,
              "ticks": ""
             }
            },
            "type": "scattergl"
           }
          ],
          "scattermapbox": [
           {
            "marker": {
             "colorbar": {
              "outlinewidth": 0,
              "ticks": ""
             }
            },
            "type": "scattermapbox"
           }
          ],
          "scatterpolar": [
           {
            "marker": {
             "colorbar": {
              "outlinewidth": 0,
              "ticks": ""
             }
            },
            "type": "scatterpolar"
           }
          ],
          "scatterpolargl": [
           {
            "marker": {
             "colorbar": {
              "outlinewidth": 0,
              "ticks": ""
             }
            },
            "type": "scatterpolargl"
           }
          ],
          "scatterternary": [
           {
            "marker": {
             "colorbar": {
              "outlinewidth": 0,
              "ticks": ""
             }
            },
            "type": "scatterternary"
           }
          ],
          "surface": [
           {
            "colorbar": {
             "outlinewidth": 0,
             "ticks": ""
            },
            "colorscale": [
             [
              0,
              "#0d0887"
             ],
             [
              0.1111111111111111,
              "#46039f"
             ],
             [
              0.2222222222222222,
              "#7201a8"
             ],
             [
              0.3333333333333333,
              "#9c179e"
             ],
             [
              0.4444444444444444,
              "#bd3786"
             ],
             [
              0.5555555555555556,
              "#d8576b"
             ],
             [
              0.6666666666666666,
              "#ed7953"
             ],
             [
              0.7777777777777778,
              "#fb9f3a"
             ],
             [
              0.8888888888888888,
              "#fdca26"
             ],
             [
              1,
              "#f0f921"
             ]
            ],
            "type": "surface"
           }
          ],
          "table": [
           {
            "cells": {
             "fill": {
              "color": "#EBF0F8"
             },
             "line": {
              "color": "white"
             }
            },
            "header": {
             "fill": {
              "color": "#C8D4E3"
             },
             "line": {
              "color": "white"
             }
            },
            "type": "table"
           }
          ]
         },
         "layout": {
          "annotationdefaults": {
           "arrowcolor": "#2a3f5f",
           "arrowhead": 0,
           "arrowwidth": 1
          },
          "autotypenumbers": "strict",
          "coloraxis": {
           "colorbar": {
            "outlinewidth": 0,
            "ticks": ""
           }
          },
          "colorscale": {
           "diverging": [
            [
             0,
             "#8e0152"
            ],
            [
             0.1,
             "#c51b7d"
            ],
            [
             0.2,
             "#de77ae"
            ],
            [
             0.3,
             "#f1b6da"
            ],
            [
             0.4,
             "#fde0ef"
            ],
            [
             0.5,
             "#f7f7f7"
            ],
            [
             0.6,
             "#e6f5d0"
            ],
            [
             0.7,
             "#b8e186"
            ],
            [
             0.8,
             "#7fbc41"
            ],
            [
             0.9,
             "#4d9221"
            ],
            [
             1,
             "#276419"
            ]
           ],
           "sequential": [
            [
             0,
             "#0d0887"
            ],
            [
             0.1111111111111111,
             "#46039f"
            ],
            [
             0.2222222222222222,
             "#7201a8"
            ],
            [
             0.3333333333333333,
             "#9c179e"
            ],
            [
             0.4444444444444444,
             "#bd3786"
            ],
            [
             0.5555555555555556,
             "#d8576b"
            ],
            [
             0.6666666666666666,
             "#ed7953"
            ],
            [
             0.7777777777777778,
             "#fb9f3a"
            ],
            [
             0.8888888888888888,
             "#fdca26"
            ],
            [
             1,
             "#f0f921"
            ]
           ],
           "sequentialminus": [
            [
             0,
             "#0d0887"
            ],
            [
             0.1111111111111111,
             "#46039f"
            ],
            [
             0.2222222222222222,
             "#7201a8"
            ],
            [
             0.3333333333333333,
             "#9c179e"
            ],
            [
             0.4444444444444444,
             "#bd3786"
            ],
            [
             0.5555555555555556,
             "#d8576b"
            ],
            [
             0.6666666666666666,
             "#ed7953"
            ],
            [
             0.7777777777777778,
             "#fb9f3a"
            ],
            [
             0.8888888888888888,
             "#fdca26"
            ],
            [
             1,
             "#f0f921"
            ]
           ]
          },
          "colorway": [
           "#636efa",
           "#EF553B",
           "#00cc96",
           "#ab63fa",
           "#FFA15A",
           "#19d3f3",
           "#FF6692",
           "#B6E880",
           "#FF97FF",
           "#FECB52"
          ],
          "font": {
           "color": "#2a3f5f"
          },
          "geo": {
           "bgcolor": "white",
           "lakecolor": "white",
           "landcolor": "#E5ECF6",
           "showlakes": true,
           "showland": true,
           "subunitcolor": "white"
          },
          "hoverlabel": {
           "align": "left"
          },
          "hovermode": "closest",
          "mapbox": {
           "style": "light"
          },
          "paper_bgcolor": "white",
          "plot_bgcolor": "#E5ECF6",
          "polar": {
           "angularaxis": {
            "gridcolor": "white",
            "linecolor": "white",
            "ticks": ""
           },
           "bgcolor": "#E5ECF6",
           "radialaxis": {
            "gridcolor": "white",
            "linecolor": "white",
            "ticks": ""
           }
          },
          "scene": {
           "xaxis": {
            "backgroundcolor": "#E5ECF6",
            "gridcolor": "white",
            "gridwidth": 2,
            "linecolor": "white",
            "showbackground": true,
            "ticks": "",
            "zerolinecolor": "white"
           },
           "yaxis": {
            "backgroundcolor": "#E5ECF6",
            "gridcolor": "white",
            "gridwidth": 2,
            "linecolor": "white",
            "showbackground": true,
            "ticks": "",
            "zerolinecolor": "white"
           },
           "zaxis": {
            "backgroundcolor": "#E5ECF6",
            "gridcolor": "white",
            "gridwidth": 2,
            "linecolor": "white",
            "showbackground": true,
            "ticks": "",
            "zerolinecolor": "white"
           }
          },
          "shapedefaults": {
           "line": {
            "color": "#2a3f5f"
           }
          },
          "ternary": {
           "aaxis": {
            "gridcolor": "white",
            "linecolor": "white",
            "ticks": ""
           },
           "baxis": {
            "gridcolor": "white",
            "linecolor": "white",
            "ticks": ""
           },
           "bgcolor": "#E5ECF6",
           "caxis": {
            "gridcolor": "white",
            "linecolor": "white",
            "ticks": ""
           }
          },
          "title": {
           "x": 0.05
          },
          "xaxis": {
           "automargin": true,
           "gridcolor": "white",
           "linecolor": "white",
           "ticks": "",
           "title": {
            "standoff": 15
           },
           "zerolinecolor": "white",
           "zerolinewidth": 2
          },
          "yaxis": {
           "automargin": true,
           "gridcolor": "white",
           "linecolor": "white",
           "ticks": "",
           "title": {
            "standoff": 15
           },
           "zerolinecolor": "white",
           "zerolinewidth": 2
          }
         }
        },
        "title": {
         "text": "Change in Total Suspensions After Tariff Migration (Absolute Numbers)"
        },
        "xaxis": {
         "anchor": "y",
         "domain": [
          0,
          1
         ],
         "title": {
          "text": "Delta of Total Suspensions After Migration"
         }
        },
        "yaxis": {
         "anchor": "x",
         "domain": [
          0,
          1
         ],
         "title": {
          "text": "Migration Direction"
         }
        }
       }
      }
     },
     "metadata": {},
     "output_type": "display_data"
    }
   ],
   "source": [
    "# Bar plot for created suspensions change rate dataset\n",
    "fig = px.bar(\n",
    "    suspensions_change_df_agg,\n",
    "    x='DELTA_SUSPENSIONS',\n",
    "    y=suspensions_change_df_agg.apply(lambda x: f\"Tariff {int(x['TARIFF_PLAN_ID'])} → Tariff {int(x['MIGRATION_TARIFF'])}\", axis=1),\n",
    "    orientation='h',\n",
    "    color='DELTA_SUSPENSIONS',\n",
    "    color_continuous_scale=['green', 'yellow', 'red'],\n",
    "    title='Change in Total Suspensions After Tariff Migration (Absolute Numbers)',\n",
    "    labels={'DELTA_SUSPENSIONS': 'Delta of Total Suspensions After Migration', 'y': 'Migration Direction'}\n",
    ")\n",
    "fig.update_layout(\n",
    "    xaxis_title='Delta of Total Suspensions After Migration', \n",
    "    yaxis_title='Migration Direction',\n",
    "    height=1080,\n",
    "    font=dict(size=20)\n",
    ")\n",
    "fig.show()"
   ]
  },
  {
   "cell_type": "code",
   "execution_count": 34,
   "metadata": {},
   "outputs": [
    {
     "name": "stdout",
     "output_type": "stream",
     "text": [
      "Average suspensions amount change by all migration flows: -3.65\n"
     ]
    }
   ],
   "source": [
    "print(f'Average suspensions amount change by all migration flows: {suspensions_change_df_agg[\"DELTA_SUSPENSIONS\"].mean()}')"
   ]
  }
 ],
 "metadata": {
  "kernelspec": {
   "display_name": ".venv",
   "language": "python",
   "name": "python3"
  },
  "language_info": {
   "codemirror_mode": {
    "name": "ipython",
    "version": 3
   },
   "file_extension": ".py",
   "mimetype": "text/x-python",
   "name": "python",
   "nbconvert_exporter": "python",
   "pygments_lexer": "ipython3",
   "version": "3.11.9"
  }
 },
 "nbformat": 4,
 "nbformat_minor": 2
}
